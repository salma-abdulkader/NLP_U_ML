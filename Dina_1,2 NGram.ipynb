{
 "cells": [
  {
   "cell_type": "code",
   "execution_count": 1,
   "id": "87455e73",
   "metadata": {
    "execution": {
     "iopub.execute_input": "2024-11-27T07:42:21.520953Z",
     "iopub.status.busy": "2024-11-27T07:42:21.520310Z",
     "iopub.status.idle": "2024-11-27T07:42:22.242509Z",
     "shell.execute_reply": "2024-11-27T07:42:22.241828Z"
    },
    "papermill": {
     "duration": 0.730023,
     "end_time": "2024-11-27T07:42:22.245009",
     "exception": false,
     "start_time": "2024-11-27T07:42:21.514986",
     "status": "completed"
    },
    "tags": []
   },
   "outputs": [],
   "source": [
    "import pandas as pd\n",
    "import re"
   ]
  },
  {
   "cell_type": "code",
   "execution_count": 2,
   "id": "f1ed1aab",
   "metadata": {
    "execution": {
     "iopub.execute_input": "2024-11-27T07:42:22.253111Z",
     "iopub.status.busy": "2024-11-27T07:42:22.252712Z",
     "iopub.status.idle": "2024-11-27T07:42:26.261493Z",
     "shell.execute_reply": "2024-11-27T07:42:26.260553Z"
    },
    "papermill": {
     "duration": 4.015164,
     "end_time": "2024-11-27T07:42:26.263749",
     "exception": false,
     "start_time": "2024-11-27T07:42:22.248585",
     "status": "completed"
    },
    "tags": []
   },
   "outputs": [],
   "source": [
    "data=pd.read_csv(\"/kaggle/input/amazon-reviews/test.csv\",header=None)"
   ]
  },
  {
   "cell_type": "code",
   "execution_count": 3,
   "id": "a831ceda",
   "metadata": {
    "execution": {
     "iopub.execute_input": "2024-11-27T07:42:26.271700Z",
     "iopub.status.busy": "2024-11-27T07:42:26.271410Z",
     "iopub.status.idle": "2024-11-27T07:42:26.287835Z",
     "shell.execute_reply": "2024-11-27T07:42:26.287047Z"
    },
    "papermill": {
     "duration": 0.022631,
     "end_time": "2024-11-27T07:42:26.289890",
     "exception": false,
     "start_time": "2024-11-27T07:42:26.267259",
     "status": "completed"
    },
    "tags": []
   },
   "outputs": [
    {
     "data": {
      "text/html": [
       "<div>\n",
       "<style scoped>\n",
       "    .dataframe tbody tr th:only-of-type {\n",
       "        vertical-align: middle;\n",
       "    }\n",
       "\n",
       "    .dataframe tbody tr th {\n",
       "        vertical-align: top;\n",
       "    }\n",
       "\n",
       "    .dataframe thead th {\n",
       "        text-align: right;\n",
       "    }\n",
       "</style>\n",
       "<table border=\"1\" class=\"dataframe\">\n",
       "  <thead>\n",
       "    <tr style=\"text-align: right;\">\n",
       "      <th></th>\n",
       "      <th>0</th>\n",
       "      <th>1</th>\n",
       "      <th>2</th>\n",
       "    </tr>\n",
       "  </thead>\n",
       "  <tbody>\n",
       "    <tr>\n",
       "      <th>0</th>\n",
       "      <td>2</td>\n",
       "      <td>Great CD</td>\n",
       "      <td>My lovely Pat has one of the GREAT voices of h...</td>\n",
       "    </tr>\n",
       "    <tr>\n",
       "      <th>1</th>\n",
       "      <td>2</td>\n",
       "      <td>One of the best game music soundtracks - for a...</td>\n",
       "      <td>Despite the fact that I have only played a sma...</td>\n",
       "    </tr>\n",
       "    <tr>\n",
       "      <th>2</th>\n",
       "      <td>1</td>\n",
       "      <td>Batteries died within a year ...</td>\n",
       "      <td>I bought this charger in Jul 2003 and it worke...</td>\n",
       "    </tr>\n",
       "    <tr>\n",
       "      <th>3</th>\n",
       "      <td>2</td>\n",
       "      <td>works fine, but Maha Energy is better</td>\n",
       "      <td>Check out Maha Energy's website. Their Powerex...</td>\n",
       "    </tr>\n",
       "    <tr>\n",
       "      <th>4</th>\n",
       "      <td>2</td>\n",
       "      <td>Great for the non-audiophile</td>\n",
       "      <td>Reviewed quite a bit of the combo players and ...</td>\n",
       "    </tr>\n",
       "  </tbody>\n",
       "</table>\n",
       "</div>"
      ],
      "text/plain": [
       "   0                                                  1  \\\n",
       "0  2                                           Great CD   \n",
       "1  2  One of the best game music soundtracks - for a...   \n",
       "2  1                   Batteries died within a year ...   \n",
       "3  2              works fine, but Maha Energy is better   \n",
       "4  2                       Great for the non-audiophile   \n",
       "\n",
       "                                                   2  \n",
       "0  My lovely Pat has one of the GREAT voices of h...  \n",
       "1  Despite the fact that I have only played a sma...  \n",
       "2  I bought this charger in Jul 2003 and it worke...  \n",
       "3  Check out Maha Energy's website. Their Powerex...  \n",
       "4  Reviewed quite a bit of the combo players and ...  "
      ]
     },
     "execution_count": 3,
     "metadata": {},
     "output_type": "execute_result"
    }
   ],
   "source": [
    "data.head()"
   ]
  },
  {
   "cell_type": "code",
   "execution_count": 4,
   "id": "0838eaad",
   "metadata": {
    "execution": {
     "iopub.execute_input": "2024-11-27T07:42:26.298686Z",
     "iopub.status.busy": "2024-11-27T07:42:26.298418Z",
     "iopub.status.idle": "2024-11-27T07:42:26.302033Z",
     "shell.execute_reply": "2024-11-27T07:42:26.301378Z"
    },
    "papermill": {
     "duration": 0.010269,
     "end_time": "2024-11-27T07:42:26.303584",
     "exception": false,
     "start_time": "2024-11-27T07:42:26.293315",
     "status": "completed"
    },
    "tags": []
   },
   "outputs": [],
   "source": [
    "data.columns=['polarity','title','text']"
   ]
  },
  {
   "cell_type": "code",
   "execution_count": 5,
   "id": "e0415dca",
   "metadata": {
    "execution": {
     "iopub.execute_input": "2024-11-27T07:42:26.311073Z",
     "iopub.status.busy": "2024-11-27T07:42:26.310818Z",
     "iopub.status.idle": "2024-11-27T07:42:26.319216Z",
     "shell.execute_reply": "2024-11-27T07:42:26.318421Z"
    },
    "papermill": {
     "duration": 0.01395,
     "end_time": "2024-11-27T07:42:26.320825",
     "exception": false,
     "start_time": "2024-11-27T07:42:26.306875",
     "status": "completed"
    },
    "tags": []
   },
   "outputs": [
    {
     "data": {
      "text/html": [
       "<div>\n",
       "<style scoped>\n",
       "    .dataframe tbody tr th:only-of-type {\n",
       "        vertical-align: middle;\n",
       "    }\n",
       "\n",
       "    .dataframe tbody tr th {\n",
       "        vertical-align: top;\n",
       "    }\n",
       "\n",
       "    .dataframe thead th {\n",
       "        text-align: right;\n",
       "    }\n",
       "</style>\n",
       "<table border=\"1\" class=\"dataframe\">\n",
       "  <thead>\n",
       "    <tr style=\"text-align: right;\">\n",
       "      <th></th>\n",
       "      <th>polarity</th>\n",
       "      <th>title</th>\n",
       "      <th>text</th>\n",
       "    </tr>\n",
       "  </thead>\n",
       "  <tbody>\n",
       "    <tr>\n",
       "      <th>0</th>\n",
       "      <td>2</td>\n",
       "      <td>Great CD</td>\n",
       "      <td>My lovely Pat has one of the GREAT voices of h...</td>\n",
       "    </tr>\n",
       "    <tr>\n",
       "      <th>1</th>\n",
       "      <td>2</td>\n",
       "      <td>One of the best game music soundtracks - for a...</td>\n",
       "      <td>Despite the fact that I have only played a sma...</td>\n",
       "    </tr>\n",
       "    <tr>\n",
       "      <th>2</th>\n",
       "      <td>1</td>\n",
       "      <td>Batteries died within a year ...</td>\n",
       "      <td>I bought this charger in Jul 2003 and it worke...</td>\n",
       "    </tr>\n",
       "    <tr>\n",
       "      <th>3</th>\n",
       "      <td>2</td>\n",
       "      <td>works fine, but Maha Energy is better</td>\n",
       "      <td>Check out Maha Energy's website. Their Powerex...</td>\n",
       "    </tr>\n",
       "    <tr>\n",
       "      <th>4</th>\n",
       "      <td>2</td>\n",
       "      <td>Great for the non-audiophile</td>\n",
       "      <td>Reviewed quite a bit of the combo players and ...</td>\n",
       "    </tr>\n",
       "  </tbody>\n",
       "</table>\n",
       "</div>"
      ],
      "text/plain": [
       "   polarity                                              title  \\\n",
       "0         2                                           Great CD   \n",
       "1         2  One of the best game music soundtracks - for a...   \n",
       "2         1                   Batteries died within a year ...   \n",
       "3         2              works fine, but Maha Energy is better   \n",
       "4         2                       Great for the non-audiophile   \n",
       "\n",
       "                                                text  \n",
       "0  My lovely Pat has one of the GREAT voices of h...  \n",
       "1  Despite the fact that I have only played a sma...  \n",
       "2  I bought this charger in Jul 2003 and it worke...  \n",
       "3  Check out Maha Energy's website. Their Powerex...  \n",
       "4  Reviewed quite a bit of the combo players and ...  "
      ]
     },
     "execution_count": 5,
     "metadata": {},
     "output_type": "execute_result"
    }
   ],
   "source": [
    "data.head()"
   ]
  },
  {
   "cell_type": "code",
   "execution_count": 6,
   "id": "4b0bd2f7",
   "metadata": {
    "execution": {
     "iopub.execute_input": "2024-11-27T07:42:26.329136Z",
     "iopub.status.busy": "2024-11-27T07:42:26.328580Z",
     "iopub.status.idle": "2024-11-27T07:42:26.333933Z",
     "shell.execute_reply": "2024-11-27T07:42:26.333189Z"
    },
    "papermill": {
     "duration": 0.011318,
     "end_time": "2024-11-27T07:42:26.335591",
     "exception": false,
     "start_time": "2024-11-27T07:42:26.324273",
     "status": "completed"
    },
    "tags": []
   },
   "outputs": [
    {
     "data": {
      "text/plain": [
       "(400000, 3)"
      ]
     },
     "execution_count": 6,
     "metadata": {},
     "output_type": "execute_result"
    }
   ],
   "source": [
    "data.shape"
   ]
  },
  {
   "cell_type": "code",
   "execution_count": 7,
   "id": "9921b99f",
   "metadata": {
    "execution": {
     "iopub.execute_input": "2024-11-27T07:42:26.343599Z",
     "iopub.status.busy": "2024-11-27T07:42:26.343385Z",
     "iopub.status.idle": "2024-11-27T07:42:26.734458Z",
     "shell.execute_reply": "2024-11-27T07:42:26.733646Z"
    },
    "papermill": {
     "duration": 0.397157,
     "end_time": "2024-11-27T07:42:26.736284",
     "exception": false,
     "start_time": "2024-11-27T07:42:26.339127",
     "status": "completed"
    },
    "tags": []
   },
   "outputs": [
    {
     "data": {
      "text/html": [
       "<div>\n",
       "<style scoped>\n",
       "    .dataframe tbody tr th:only-of-type {\n",
       "        vertical-align: middle;\n",
       "    }\n",
       "\n",
       "    .dataframe tbody tr th {\n",
       "        vertical-align: top;\n",
       "    }\n",
       "\n",
       "    .dataframe thead th {\n",
       "        text-align: right;\n",
       "    }\n",
       "</style>\n",
       "<table border=\"1\" class=\"dataframe\">\n",
       "  <thead>\n",
       "    <tr style=\"text-align: right;\">\n",
       "      <th></th>\n",
       "      <th>polarity</th>\n",
       "      <th>title</th>\n",
       "      <th>text</th>\n",
       "      <th>review</th>\n",
       "    </tr>\n",
       "  </thead>\n",
       "  <tbody>\n",
       "    <tr>\n",
       "      <th>0</th>\n",
       "      <td>2</td>\n",
       "      <td>Great CD</td>\n",
       "      <td>My lovely Pat has one of the GREAT voices of h...</td>\n",
       "      <td>Great CD My lovely Pat has one of the GREAT vo...</td>\n",
       "    </tr>\n",
       "    <tr>\n",
       "      <th>1</th>\n",
       "      <td>2</td>\n",
       "      <td>One of the best game music soundtracks - for a...</td>\n",
       "      <td>Despite the fact that I have only played a sma...</td>\n",
       "      <td>One of the best game music soundtracks - for a...</td>\n",
       "    </tr>\n",
       "    <tr>\n",
       "      <th>2</th>\n",
       "      <td>1</td>\n",
       "      <td>Batteries died within a year ...</td>\n",
       "      <td>I bought this charger in Jul 2003 and it worke...</td>\n",
       "      <td>Batteries died within a year ... I bought this...</td>\n",
       "    </tr>\n",
       "    <tr>\n",
       "      <th>3</th>\n",
       "      <td>2</td>\n",
       "      <td>works fine, but Maha Energy is better</td>\n",
       "      <td>Check out Maha Energy's website. Their Powerex...</td>\n",
       "      <td>works fine, but Maha Energy is better Check ou...</td>\n",
       "    </tr>\n",
       "    <tr>\n",
       "      <th>4</th>\n",
       "      <td>2</td>\n",
       "      <td>Great for the non-audiophile</td>\n",
       "      <td>Reviewed quite a bit of the combo players and ...</td>\n",
       "      <td>Great for the non-audiophile Reviewed quite a ...</td>\n",
       "    </tr>\n",
       "  </tbody>\n",
       "</table>\n",
       "</div>"
      ],
      "text/plain": [
       "   polarity                                              title  \\\n",
       "0         2                                           Great CD   \n",
       "1         2  One of the best game music soundtracks - for a...   \n",
       "2         1                   Batteries died within a year ...   \n",
       "3         2              works fine, but Maha Energy is better   \n",
       "4         2                       Great for the non-audiophile   \n",
       "\n",
       "                                                text  \\\n",
       "0  My lovely Pat has one of the GREAT voices of h...   \n",
       "1  Despite the fact that I have only played a sma...   \n",
       "2  I bought this charger in Jul 2003 and it worke...   \n",
       "3  Check out Maha Energy's website. Their Powerex...   \n",
       "4  Reviewed quite a bit of the combo players and ...   \n",
       "\n",
       "                                              review  \n",
       "0  Great CD My lovely Pat has one of the GREAT vo...  \n",
       "1  One of the best game music soundtracks - for a...  \n",
       "2  Batteries died within a year ... I bought this...  \n",
       "3  works fine, but Maha Energy is better Check ou...  \n",
       "4  Great for the non-audiophile Reviewed quite a ...  "
      ]
     },
     "execution_count": 7,
     "metadata": {},
     "output_type": "execute_result"
    }
   ],
   "source": [
    "data['review']=data['title']+\" \"+data['text']\n",
    "data.head()"
   ]
  },
  {
   "cell_type": "code",
   "execution_count": 8,
   "id": "ba7c96d7",
   "metadata": {
    "execution": {
     "iopub.execute_input": "2024-11-27T07:42:26.745871Z",
     "iopub.status.busy": "2024-11-27T07:42:26.745551Z",
     "iopub.status.idle": "2024-11-27T07:42:26.762437Z",
     "shell.execute_reply": "2024-11-27T07:42:26.761507Z"
    },
    "papermill": {
     "duration": 0.023397,
     "end_time": "2024-11-27T07:42:26.764015",
     "exception": false,
     "start_time": "2024-11-27T07:42:26.740618",
     "status": "completed"
    },
    "tags": []
   },
   "outputs": [
    {
     "data": {
      "text/html": [
       "<div>\n",
       "<style scoped>\n",
       "    .dataframe tbody tr th:only-of-type {\n",
       "        vertical-align: middle;\n",
       "    }\n",
       "\n",
       "    .dataframe tbody tr th {\n",
       "        vertical-align: top;\n",
       "    }\n",
       "\n",
       "    .dataframe thead th {\n",
       "        text-align: right;\n",
       "    }\n",
       "</style>\n",
       "<table border=\"1\" class=\"dataframe\">\n",
       "  <thead>\n",
       "    <tr style=\"text-align: right;\">\n",
       "      <th></th>\n",
       "      <th>polarity</th>\n",
       "      <th>title</th>\n",
       "      <th>text</th>\n",
       "      <th>review</th>\n",
       "    </tr>\n",
       "  </thead>\n",
       "  <tbody>\n",
       "    <tr>\n",
       "      <th>0</th>\n",
       "      <td>1</td>\n",
       "      <td>Great CD</td>\n",
       "      <td>My lovely Pat has one of the GREAT voices of h...</td>\n",
       "      <td>Great CD My lovely Pat has one of the GREAT vo...</td>\n",
       "    </tr>\n",
       "    <tr>\n",
       "      <th>1</th>\n",
       "      <td>1</td>\n",
       "      <td>One of the best game music soundtracks - for a...</td>\n",
       "      <td>Despite the fact that I have only played a sma...</td>\n",
       "      <td>One of the best game music soundtracks - for a...</td>\n",
       "    </tr>\n",
       "    <tr>\n",
       "      <th>2</th>\n",
       "      <td>0</td>\n",
       "      <td>Batteries died within a year ...</td>\n",
       "      <td>I bought this charger in Jul 2003 and it worke...</td>\n",
       "      <td>Batteries died within a year ... I bought this...</td>\n",
       "    </tr>\n",
       "    <tr>\n",
       "      <th>3</th>\n",
       "      <td>1</td>\n",
       "      <td>works fine, but Maha Energy is better</td>\n",
       "      <td>Check out Maha Energy's website. Their Powerex...</td>\n",
       "      <td>works fine, but Maha Energy is better Check ou...</td>\n",
       "    </tr>\n",
       "    <tr>\n",
       "      <th>4</th>\n",
       "      <td>1</td>\n",
       "      <td>Great for the non-audiophile</td>\n",
       "      <td>Reviewed quite a bit of the combo players and ...</td>\n",
       "      <td>Great for the non-audiophile Reviewed quite a ...</td>\n",
       "    </tr>\n",
       "  </tbody>\n",
       "</table>\n",
       "</div>"
      ],
      "text/plain": [
       "   polarity                                              title  \\\n",
       "0         1                                           Great CD   \n",
       "1         1  One of the best game music soundtracks - for a...   \n",
       "2         0                   Batteries died within a year ...   \n",
       "3         1              works fine, but Maha Energy is better   \n",
       "4         1                       Great for the non-audiophile   \n",
       "\n",
       "                                                text  \\\n",
       "0  My lovely Pat has one of the GREAT voices of h...   \n",
       "1  Despite the fact that I have only played a sma...   \n",
       "2  I bought this charger in Jul 2003 and it worke...   \n",
       "3  Check out Maha Energy's website. Their Powerex...   \n",
       "4  Reviewed quite a bit of the combo players and ...   \n",
       "\n",
       "                                              review  \n",
       "0  Great CD My lovely Pat has one of the GREAT vo...  \n",
       "1  One of the best game music soundtracks - for a...  \n",
       "2  Batteries died within a year ... I bought this...  \n",
       "3  works fine, but Maha Energy is better Check ou...  \n",
       "4  Great for the non-audiophile Reviewed quite a ...  "
      ]
     },
     "execution_count": 8,
     "metadata": {},
     "output_type": "execute_result"
    }
   ],
   "source": [
    "data['polarity']=data['polarity'].replace({2:1,1:0})\n",
    "data.head()"
   ]
  },
  {
   "cell_type": "code",
   "execution_count": 9,
   "id": "33e612d2",
   "metadata": {
    "execution": {
     "iopub.execute_input": "2024-11-27T07:42:26.772762Z",
     "iopub.status.busy": "2024-11-27T07:42:26.772538Z",
     "iopub.status.idle": "2024-11-27T07:42:26.787051Z",
     "shell.execute_reply": "2024-11-27T07:42:26.785991Z"
    },
    "papermill": {
     "duration": 0.020847,
     "end_time": "2024-11-27T07:42:26.788841",
     "exception": false,
     "start_time": "2024-11-27T07:42:26.767994",
     "status": "completed"
    },
    "tags": []
   },
   "outputs": [],
   "source": [
    "from tqdm import tqdm\n",
    "tqdm.pandas()"
   ]
  },
  {
   "cell_type": "code",
   "execution_count": 10,
   "id": "c04a0ebe",
   "metadata": {
    "execution": {
     "iopub.execute_input": "2024-11-27T07:42:26.799355Z",
     "iopub.status.busy": "2024-11-27T07:42:26.799100Z",
     "iopub.status.idle": "2024-11-27T07:44:53.678329Z",
     "shell.execute_reply": "2024-11-27T07:44:53.677331Z"
    },
    "papermill": {
     "duration": 146.886089,
     "end_time": "2024-11-27T07:44:53.680280",
     "exception": false,
     "start_time": "2024-11-27T07:42:26.794191",
     "status": "completed"
    },
    "tags": []
   },
   "outputs": [
    {
     "name": "stdout",
     "output_type": "stream",
     "text": [
      "Requirement already satisfied: emoji in /opt/conda/lib/python3.10/site-packages (2.13.2)\r\n"
     ]
    },
    {
     "name": "stderr",
     "output_type": "stream",
     "text": [
      "100%|██████████| 400000/400000 [02:17<00:00, 2910.30it/s]\n"
     ]
    },
    {
     "data": {
      "text/html": [
       "<div>\n",
       "<style scoped>\n",
       "    .dataframe tbody tr th:only-of-type {\n",
       "        vertical-align: middle;\n",
       "    }\n",
       "\n",
       "    .dataframe tbody tr th {\n",
       "        vertical-align: top;\n",
       "    }\n",
       "\n",
       "    .dataframe thead th {\n",
       "        text-align: right;\n",
       "    }\n",
       "</style>\n",
       "<table border=\"1\" class=\"dataframe\">\n",
       "  <thead>\n",
       "    <tr style=\"text-align: right;\">\n",
       "      <th></th>\n",
       "      <th>polarity</th>\n",
       "      <th>title</th>\n",
       "      <th>text</th>\n",
       "      <th>review</th>\n",
       "      <th>clean_review</th>\n",
       "    </tr>\n",
       "  </thead>\n",
       "  <tbody>\n",
       "    <tr>\n",
       "      <th>0</th>\n",
       "      <td>1</td>\n",
       "      <td>Great CD</td>\n",
       "      <td>My lovely Pat has one of the GREAT voices of h...</td>\n",
       "      <td>Great CD My lovely Pat has one of the GREAT vo...</td>\n",
       "      <td>Great CD My lovely Pat has one of the GREAT vo...</td>\n",
       "    </tr>\n",
       "    <tr>\n",
       "      <th>1</th>\n",
       "      <td>1</td>\n",
       "      <td>One of the best game music soundtracks - for a...</td>\n",
       "      <td>Despite the fact that I have only played a sma...</td>\n",
       "      <td>One of the best game music soundtracks - for a...</td>\n",
       "      <td>One of the best game music soundtracks - for a...</td>\n",
       "    </tr>\n",
       "    <tr>\n",
       "      <th>2</th>\n",
       "      <td>0</td>\n",
       "      <td>Batteries died within a year ...</td>\n",
       "      <td>I bought this charger in Jul 2003 and it worke...</td>\n",
       "      <td>Batteries died within a year ... I bought this...</td>\n",
       "      <td>Batteries died within a year ... I bought this...</td>\n",
       "    </tr>\n",
       "    <tr>\n",
       "      <th>3</th>\n",
       "      <td>1</td>\n",
       "      <td>works fine, but Maha Energy is better</td>\n",
       "      <td>Check out Maha Energy's website. Their Powerex...</td>\n",
       "      <td>works fine, but Maha Energy is better Check ou...</td>\n",
       "      <td>works fine, but Maha Energy is better Check ou...</td>\n",
       "    </tr>\n",
       "    <tr>\n",
       "      <th>4</th>\n",
       "      <td>1</td>\n",
       "      <td>Great for the non-audiophile</td>\n",
       "      <td>Reviewed quite a bit of the combo players and ...</td>\n",
       "      <td>Great for the non-audiophile Reviewed quite a ...</td>\n",
       "      <td>Great for the non-audiophile Reviewed quite a ...</td>\n",
       "    </tr>\n",
       "  </tbody>\n",
       "</table>\n",
       "</div>"
      ],
      "text/plain": [
       "   polarity                                              title  \\\n",
       "0         1                                           Great CD   \n",
       "1         1  One of the best game music soundtracks - for a...   \n",
       "2         0                   Batteries died within a year ...   \n",
       "3         1              works fine, but Maha Energy is better   \n",
       "4         1                       Great for the non-audiophile   \n",
       "\n",
       "                                                text  \\\n",
       "0  My lovely Pat has one of the GREAT voices of h...   \n",
       "1  Despite the fact that I have only played a sma...   \n",
       "2  I bought this charger in Jul 2003 and it worke...   \n",
       "3  Check out Maha Energy's website. Their Powerex...   \n",
       "4  Reviewed quite a bit of the combo players and ...   \n",
       "\n",
       "                                              review  \\\n",
       "0  Great CD My lovely Pat has one of the GREAT vo...   \n",
       "1  One of the best game music soundtracks - for a...   \n",
       "2  Batteries died within a year ... I bought this...   \n",
       "3  works fine, but Maha Energy is better Check ou...   \n",
       "4  Great for the non-audiophile Reviewed quite a ...   \n",
       "\n",
       "                                        clean_review  \n",
       "0  Great CD My lovely Pat has one of the GREAT vo...  \n",
       "1  One of the best game music soundtracks - for a...  \n",
       "2  Batteries died within a year ... I bought this...  \n",
       "3  works fine, but Maha Energy is better Check ou...  \n",
       "4  Great for the non-audiophile Reviewed quite a ...  "
      ]
     },
     "execution_count": 10,
     "metadata": {},
     "output_type": "execute_result"
    }
   ],
   "source": [
    "!pip install emoji\n",
    "import emoji\n",
    "def demojize_safe(text):\n",
    "    if isinstance(text, str):  # تحقق إذا كانت القيمة نصية\n",
    "        return emoji.demojize(text)\n",
    "    else:\n",
    "        return \"\" \n",
    "data['review'] = data['review'].fillna('') \n",
    "data['clean_review'] = data['review'].progress_apply(demojize_safe)\n",
    "data.head()"
   ]
  },
  {
   "cell_type": "code",
   "execution_count": 11,
   "id": "145ac37b",
   "metadata": {
    "execution": {
     "iopub.execute_input": "2024-11-27T07:44:53.801200Z",
     "iopub.status.busy": "2024-11-27T07:44:53.800862Z",
     "iopub.status.idle": "2024-11-27T07:44:54.172471Z",
     "shell.execute_reply": "2024-11-27T07:44:54.171554Z"
    },
    "papermill": {
     "duration": 0.433452,
     "end_time": "2024-11-27T07:44:54.174331",
     "exception": false,
     "start_time": "2024-11-27T07:44:53.740879",
     "status": "completed"
    },
    "tags": []
   },
   "outputs": [
    {
     "data": {
      "text/plain": [
       "0    great cd my lovely pat has one of the great vo...\n",
       "1    one of the best game music soundtracks - for a...\n",
       "2    batteries died within a year ... i bought this...\n",
       "3    works fine, but maha energy is better check ou...\n",
       "4    great for the non-audiophile reviewed quite a ...\n",
       "Name: clean_review, dtype: object"
      ]
     },
     "execution_count": 11,
     "metadata": {},
     "output_type": "execute_result"
    }
   ],
   "source": [
    "data['clean_review']=data['clean_review'].str.lower()\n",
    "data['clean_review'].head()"
   ]
  },
  {
   "cell_type": "code",
   "execution_count": 12,
   "id": "c3f8fb55",
   "metadata": {
    "execution": {
     "iopub.execute_input": "2024-11-27T07:44:54.299640Z",
     "iopub.status.busy": "2024-11-27T07:44:54.299296Z",
     "iopub.status.idle": "2024-11-27T07:44:58.036645Z",
     "shell.execute_reply": "2024-11-27T07:44:58.035715Z"
    },
    "papermill": {
     "duration": 3.799896,
     "end_time": "2024-11-27T07:44:58.038377",
     "exception": false,
     "start_time": "2024-11-27T07:44:54.238481",
     "status": "completed"
    },
    "tags": []
   },
   "outputs": [
    {
     "name": "stderr",
     "output_type": "stream",
     "text": [
      "100%|██████████| 400000/400000 [00:03<00:00, 107812.34it/s]\n"
     ]
    },
    {
     "data": {
      "text/plain": [
       "0    great cd my lovely pat has one of the great vo...\n",
       "1    one of the best game music soundtracks - for a...\n",
       "2    batteries died within a year ... i bought this...\n",
       "3    works fine, but maha energy is better check ou...\n",
       "4    great for the non-audiophile reviewed quite a ...\n",
       "Name: clean_review, dtype: object"
      ]
     },
     "execution_count": 12,
     "metadata": {},
     "output_type": "execute_result"
    }
   ],
   "source": [
    "import re\n",
    "def remove_digits(data):\n",
    "    return re.sub(r'\\d+', '', data)\n",
    "    \n",
    "data['clean_review'] = data['clean_review'].progress_apply(lambda x: remove_digits(x))\n",
    "data['clean_review'].head()"
   ]
  },
  {
   "cell_type": "code",
   "execution_count": 13,
   "id": "c4d62976",
   "metadata": {
    "execution": {
     "iopub.execute_input": "2024-11-27T07:44:58.164696Z",
     "iopub.status.busy": "2024-11-27T07:44:58.163902Z",
     "iopub.status.idle": "2024-11-27T07:44:58.169397Z",
     "shell.execute_reply": "2024-11-27T07:44:58.168583Z"
    },
    "papermill": {
     "duration": 0.070139,
     "end_time": "2024-11-27T07:44:58.171076",
     "exception": false,
     "start_time": "2024-11-27T07:44:58.100937",
     "status": "completed"
    },
    "tags": []
   },
   "outputs": [
    {
     "data": {
      "text/plain": [
       "'!\"#$%&\\'()*+,-./:;<=>?@[\\\\]^_`{|}~'"
      ]
     },
     "execution_count": 13,
     "metadata": {},
     "output_type": "execute_result"
    }
   ],
   "source": [
    "import string\n",
    "exclude = string.punctuation\n",
    "exclude"
   ]
  },
  {
   "cell_type": "code",
   "execution_count": 14,
   "id": "c91802ad",
   "metadata": {
    "execution": {
     "iopub.execute_input": "2024-11-27T07:44:58.338267Z",
     "iopub.status.busy": "2024-11-27T07:44:58.337613Z",
     "iopub.status.idle": "2024-11-27T07:45:02.085776Z",
     "shell.execute_reply": "2024-11-27T07:45:02.084923Z"
    },
    "papermill": {
     "duration": 3.813048,
     "end_time": "2024-11-27T07:45:02.087477",
     "exception": false,
     "start_time": "2024-11-27T07:44:58.274429",
     "status": "completed"
    },
    "tags": []
   },
   "outputs": [
    {
     "name": "stderr",
     "output_type": "stream",
     "text": [
      "100%|██████████| 400000/400000 [00:03<00:00, 107454.66it/s]\n"
     ]
    },
    {
     "data": {
      "text/plain": [
       "0    great cd my lovely pat has one of the great vo...\n",
       "1    one of the best game music soundtracks  for a ...\n",
       "2    batteries died within a year  i bought this ch...\n",
       "3    works fine but maha energy is better check out...\n",
       "4    great for the nonaudiophile reviewed quite a b...\n",
       "Name: clean_review, dtype: object"
      ]
     },
     "execution_count": 14,
     "metadata": {},
     "output_type": "execute_result"
    }
   ],
   "source": [
    "def remove_punctuation(data):\n",
    "    for char in exclude:\n",
    "        data = data.replace(char,'')\n",
    "    return data\n",
    "\n",
    "data['clean_review'] =  data['clean_review'].progress_apply(lambda x: remove_punctuation(x))\n",
    "data['clean_review'].head()"
   ]
  },
  {
   "cell_type": "code",
   "execution_count": 15,
   "id": "ac33df25",
   "metadata": {
    "execution": {
     "iopub.execute_input": "2024-11-27T07:45:02.217207Z",
     "iopub.status.busy": "2024-11-27T07:45:02.216878Z",
     "iopub.status.idle": "2024-11-27T07:46:55.560243Z",
     "shell.execute_reply": "2024-11-27T07:46:55.559280Z"
    },
    "papermill": {
     "duration": 113.484634,
     "end_time": "2024-11-27T07:46:55.636007",
     "exception": false,
     "start_time": "2024-11-27T07:45:02.151373",
     "status": "completed"
    },
    "tags": []
   },
   "outputs": [
    {
     "name": "stdout",
     "output_type": "stream",
     "text": [
      "[nltk_data] Downloading package punkt_tab to /usr/share/nltk_data...\n",
      "[nltk_data]   Unzipping tokenizers/punkt_tab.zip.\n"
     ]
    },
    {
     "data": {
      "text/plain": [
       "0    [great, cd, my, lovely, pat, has, one, of, the...\n",
       "1    [one, of, the, best, game, music, soundtracks,...\n",
       "2    [batteries, died, within, a, year, i, bought, ...\n",
       "3    [works, fine, but, maha, energy, is, better, c...\n",
       "4    [great, for, the, nonaudiophile, reviewed, qui...\n",
       "Name: clean_review, dtype: object"
      ]
     },
     "execution_count": 15,
     "metadata": {},
     "output_type": "execute_result"
    }
   ],
   "source": [
    "import nltk\n",
    "nltk.download('punkt_tab')\n",
    "\n",
    "from nltk.tokenize import word_tokenize\n",
    "data['clean_review'] = data['clean_review'].apply(lambda x: word_tokenize(x))\n",
    "data['clean_review'].head()"
   ]
  },
  {
   "cell_type": "code",
   "execution_count": 16,
   "id": "050e5d50",
   "metadata": {
    "execution": {
     "iopub.execute_input": "2024-11-27T07:46:55.784682Z",
     "iopub.status.busy": "2024-11-27T07:46:55.784007Z",
     "iopub.status.idle": "2024-11-27T07:46:55.796904Z",
     "shell.execute_reply": "2024-11-27T07:46:55.796086Z"
    },
    "papermill": {
     "duration": 0.089703,
     "end_time": "2024-11-27T07:46:55.799191",
     "exception": false,
     "start_time": "2024-11-27T07:46:55.709488",
     "status": "completed"
    },
    "tags": []
   },
   "outputs": [
    {
     "data": {
      "text/plain": [
       "['i',\n",
       " 'me',\n",
       " 'my',\n",
       " 'myself',\n",
       " 'we',\n",
       " 'our',\n",
       " 'ours',\n",
       " 'ourselves',\n",
       " 'you',\n",
       " \"you're\",\n",
       " \"you've\",\n",
       " \"you'll\",\n",
       " \"you'd\",\n",
       " 'your',\n",
       " 'yours',\n",
       " 'yourself',\n",
       " 'yourselves',\n",
       " 'he',\n",
       " 'him',\n",
       " 'his',\n",
       " 'himself',\n",
       " 'she',\n",
       " \"she's\",\n",
       " 'her',\n",
       " 'hers',\n",
       " 'herself',\n",
       " 'it',\n",
       " \"it's\",\n",
       " 'its',\n",
       " 'itself',\n",
       " 'they',\n",
       " 'them',\n",
       " 'their',\n",
       " 'theirs',\n",
       " 'themselves',\n",
       " 'what',\n",
       " 'which',\n",
       " 'who',\n",
       " 'whom',\n",
       " 'this',\n",
       " 'that',\n",
       " \"that'll\",\n",
       " 'these',\n",
       " 'those',\n",
       " 'am',\n",
       " 'is',\n",
       " 'are',\n",
       " 'was',\n",
       " 'were',\n",
       " 'be',\n",
       " 'been',\n",
       " 'being',\n",
       " 'have',\n",
       " 'has',\n",
       " 'had',\n",
       " 'having',\n",
       " 'do',\n",
       " 'does',\n",
       " 'did',\n",
       " 'doing',\n",
       " 'a',\n",
       " 'an',\n",
       " 'the',\n",
       " 'and',\n",
       " 'but',\n",
       " 'if',\n",
       " 'or',\n",
       " 'because',\n",
       " 'as',\n",
       " 'until',\n",
       " 'while',\n",
       " 'of',\n",
       " 'at',\n",
       " 'by',\n",
       " 'for',\n",
       " 'with',\n",
       " 'about',\n",
       " 'against',\n",
       " 'between',\n",
       " 'into',\n",
       " 'through',\n",
       " 'during',\n",
       " 'before',\n",
       " 'after',\n",
       " 'above',\n",
       " 'below',\n",
       " 'to',\n",
       " 'from',\n",
       " 'up',\n",
       " 'down',\n",
       " 'in',\n",
       " 'out',\n",
       " 'on',\n",
       " 'off',\n",
       " 'over',\n",
       " 'under',\n",
       " 'again',\n",
       " 'further',\n",
       " 'then',\n",
       " 'once',\n",
       " 'here',\n",
       " 'there',\n",
       " 'when',\n",
       " 'where',\n",
       " 'why',\n",
       " 'how',\n",
       " 'all',\n",
       " 'any',\n",
       " 'both',\n",
       " 'each',\n",
       " 'few',\n",
       " 'more',\n",
       " 'most',\n",
       " 'other',\n",
       " 'some',\n",
       " 'such',\n",
       " 'no',\n",
       " 'nor',\n",
       " 'not',\n",
       " 'only',\n",
       " 'own',\n",
       " 'same',\n",
       " 'so',\n",
       " 'than',\n",
       " 'too',\n",
       " 'very',\n",
       " 's',\n",
       " 't',\n",
       " 'can',\n",
       " 'will',\n",
       " 'just',\n",
       " 'don',\n",
       " \"don't\",\n",
       " 'should',\n",
       " \"should've\",\n",
       " 'now',\n",
       " 'd',\n",
       " 'll',\n",
       " 'm',\n",
       " 'o',\n",
       " 're',\n",
       " 've',\n",
       " 'y',\n",
       " 'ain',\n",
       " 'aren',\n",
       " \"aren't\",\n",
       " 'couldn',\n",
       " \"couldn't\",\n",
       " 'didn',\n",
       " \"didn't\",\n",
       " 'doesn',\n",
       " \"doesn't\",\n",
       " 'hadn',\n",
       " \"hadn't\",\n",
       " 'hasn',\n",
       " \"hasn't\",\n",
       " 'haven',\n",
       " \"haven't\",\n",
       " 'isn',\n",
       " \"isn't\",\n",
       " 'ma',\n",
       " 'mightn',\n",
       " \"mightn't\",\n",
       " 'mustn',\n",
       " \"mustn't\",\n",
       " 'needn',\n",
       " \"needn't\",\n",
       " 'shan',\n",
       " \"shan't\",\n",
       " 'shouldn',\n",
       " \"shouldn't\",\n",
       " 'wasn',\n",
       " \"wasn't\",\n",
       " 'weren',\n",
       " \"weren't\",\n",
       " 'won',\n",
       " \"won't\",\n",
       " 'wouldn',\n",
       " \"wouldn't\"]"
      ]
     },
     "execution_count": 16,
     "metadata": {},
     "output_type": "execute_result"
    }
   ],
   "source": [
    "from nltk.corpus import stopwords\n",
    "StopWords = stopwords.words(\"english\")\n",
    "StopWords"
   ]
  },
  {
   "cell_type": "code",
   "execution_count": 17,
   "id": "c6c8649c",
   "metadata": {
    "execution": {
     "iopub.execute_input": "2024-11-27T07:46:55.937001Z",
     "iopub.status.busy": "2024-11-27T07:46:55.936539Z",
     "iopub.status.idle": "2024-11-27T07:47:47.112199Z",
     "shell.execute_reply": "2024-11-27T07:47:47.111277Z"
    },
    "papermill": {
     "duration": 51.308019,
     "end_time": "2024-11-27T07:47:47.177948",
     "exception": false,
     "start_time": "2024-11-27T07:46:55.869929",
     "status": "completed"
    },
    "tags": []
   },
   "outputs": [
    {
     "data": {
      "text/plain": [
       "0    [great, cd, lovely, pat, one, great, voices, g...\n",
       "1    [one, best, game, music, soundtracks, game, di...\n",
       "2    [batteries, died, within, year, bought, charge...\n",
       "3    [works, fine, maha, energy, better, check, mah...\n",
       "4    [great, nonaudiophile, reviewed, quite, bit, c...\n",
       "Name: clean_review, dtype: object"
      ]
     },
     "execution_count": 17,
     "metadata": {},
     "output_type": "execute_result"
    }
   ],
   "source": [
    "def remove_stopwords(text):\n",
    "    return [word for word in text if word not in StopWords]\n",
    "    \n",
    "data['clean_review']=data['clean_review'].apply(lambda x:remove_stopwords(x))\n",
    "data['clean_review'].head()"
   ]
  },
  {
   "cell_type": "code",
   "execution_count": 18,
   "id": "a3c65503",
   "metadata": {
    "execution": {
     "iopub.execute_input": "2024-11-27T07:47:47.308055Z",
     "iopub.status.busy": "2024-11-27T07:47:47.307689Z",
     "iopub.status.idle": "2024-11-27T07:52:18.215910Z",
     "shell.execute_reply": "2024-11-27T07:52:18.215024Z"
    },
    "papermill": {
     "duration": 271.040704,
     "end_time": "2024-11-27T07:52:18.283067",
     "exception": false,
     "start_time": "2024-11-27T07:47:47.242363",
     "status": "completed"
    },
    "tags": []
   },
   "outputs": [
    {
     "data": {
      "text/plain": [
       "0    great cd love pat one great voic gener listen ...\n",
       "1    one best game music soundtrack game didnt real...\n",
       "2    batteri die within year bought charger jul wor...\n",
       "3    work fine maha energi better check maha energi...\n",
       "4    great nonaudiophil review quit bit combo playe...\n",
       "Name: clean_review, dtype: object"
      ]
     },
     "execution_count": 18,
     "metadata": {},
     "output_type": "execute_result"
    }
   ],
   "source": [
    "from nltk.stem import PorterStemmer\n",
    "\n",
    "ps=PorterStemmer()\n",
    "def stem_words(text):\n",
    "    return \" \".join([ps.stem(word) for word in text])\n",
    "\n",
    "data['clean_review'] = data['clean_review'].apply(lambda x:stem_words(x))\n",
    "data['clean_review'].head()"
   ]
  },
  {
   "cell_type": "code",
   "execution_count": 19,
   "id": "06600d7b",
   "metadata": {
    "execution": {
     "iopub.execute_input": "2024-11-27T07:52:18.416122Z",
     "iopub.status.busy": "2024-11-27T07:52:18.415325Z",
     "iopub.status.idle": "2024-11-27T07:52:18.423843Z",
     "shell.execute_reply": "2024-11-27T07:52:18.423054Z"
    },
    "papermill": {
     "duration": 0.076528,
     "end_time": "2024-11-27T07:52:18.425587",
     "exception": false,
     "start_time": "2024-11-27T07:52:18.349059",
     "status": "completed"
    },
    "tags": []
   },
   "outputs": [
    {
     "data": {
      "text/html": [
       "<style>#sk-container-id-1 {color: black;background-color: white;}#sk-container-id-1 pre{padding: 0;}#sk-container-id-1 div.sk-toggleable {background-color: white;}#sk-container-id-1 label.sk-toggleable__label {cursor: pointer;display: block;width: 100%;margin-bottom: 0;padding: 0.3em;box-sizing: border-box;text-align: center;}#sk-container-id-1 label.sk-toggleable__label-arrow:before {content: \"▸\";float: left;margin-right: 0.25em;color: #696969;}#sk-container-id-1 label.sk-toggleable__label-arrow:hover:before {color: black;}#sk-container-id-1 div.sk-estimator:hover label.sk-toggleable__label-arrow:before {color: black;}#sk-container-id-1 div.sk-toggleable__content {max-height: 0;max-width: 0;overflow: hidden;text-align: left;background-color: #f0f8ff;}#sk-container-id-1 div.sk-toggleable__content pre {margin: 0.2em;color: black;border-radius: 0.25em;background-color: #f0f8ff;}#sk-container-id-1 input.sk-toggleable__control:checked~div.sk-toggleable__content {max-height: 200px;max-width: 100%;overflow: auto;}#sk-container-id-1 input.sk-toggleable__control:checked~label.sk-toggleable__label-arrow:before {content: \"▾\";}#sk-container-id-1 div.sk-estimator input.sk-toggleable__control:checked~label.sk-toggleable__label {background-color: #d4ebff;}#sk-container-id-1 div.sk-label input.sk-toggleable__control:checked~label.sk-toggleable__label {background-color: #d4ebff;}#sk-container-id-1 input.sk-hidden--visually {border: 0;clip: rect(1px 1px 1px 1px);clip: rect(1px, 1px, 1px, 1px);height: 1px;margin: -1px;overflow: hidden;padding: 0;position: absolute;width: 1px;}#sk-container-id-1 div.sk-estimator {font-family: monospace;background-color: #f0f8ff;border: 1px dotted black;border-radius: 0.25em;box-sizing: border-box;margin-bottom: 0.5em;}#sk-container-id-1 div.sk-estimator:hover {background-color: #d4ebff;}#sk-container-id-1 div.sk-parallel-item::after {content: \"\";width: 100%;border-bottom: 1px solid gray;flex-grow: 1;}#sk-container-id-1 div.sk-label:hover label.sk-toggleable__label {background-color: #d4ebff;}#sk-container-id-1 div.sk-serial::before {content: \"\";position: absolute;border-left: 1px solid gray;box-sizing: border-box;top: 0;bottom: 0;left: 50%;z-index: 0;}#sk-container-id-1 div.sk-serial {display: flex;flex-direction: column;align-items: center;background-color: white;padding-right: 0.2em;padding-left: 0.2em;position: relative;}#sk-container-id-1 div.sk-item {position: relative;z-index: 1;}#sk-container-id-1 div.sk-parallel {display: flex;align-items: stretch;justify-content: center;background-color: white;position: relative;}#sk-container-id-1 div.sk-item::before, #sk-container-id-1 div.sk-parallel-item::before {content: \"\";position: absolute;border-left: 1px solid gray;box-sizing: border-box;top: 0;bottom: 0;left: 50%;z-index: -1;}#sk-container-id-1 div.sk-parallel-item {display: flex;flex-direction: column;z-index: 1;position: relative;background-color: white;}#sk-container-id-1 div.sk-parallel-item:first-child::after {align-self: flex-end;width: 50%;}#sk-container-id-1 div.sk-parallel-item:last-child::after {align-self: flex-start;width: 50%;}#sk-container-id-1 div.sk-parallel-item:only-child::after {width: 0;}#sk-container-id-1 div.sk-dashed-wrapped {border: 1px dashed gray;margin: 0 0.4em 0.5em 0.4em;box-sizing: border-box;padding-bottom: 0.4em;background-color: white;}#sk-container-id-1 div.sk-label label {font-family: monospace;font-weight: bold;display: inline-block;line-height: 1.2em;}#sk-container-id-1 div.sk-label-container {text-align: center;}#sk-container-id-1 div.sk-container {/* jupyter's `normalize.less` sets `[hidden] { display: none; }` but bootstrap.min.css set `[hidden] { display: none !important; }` so we also need the `!important` here to be able to override the default hidden behavior on the sphinx rendered scikit-learn.org. See: https://github.com/scikit-learn/scikit-learn/issues/21755 */display: inline-block !important;position: relative;}#sk-container-id-1 div.sk-text-repr-fallback {display: none;}</style><div id=\"sk-container-id-1\" class=\"sk-top-container\"><div class=\"sk-text-repr-fallback\"><pre>CountVectorizer(max_features=1000, ngram_range=(1, 2))</pre><b>In a Jupyter environment, please rerun this cell to show the HTML representation or trust the notebook. <br />On GitHub, the HTML representation is unable to render, please try loading this page with nbviewer.org.</b></div><div class=\"sk-container\" hidden><div class=\"sk-item\"><div class=\"sk-estimator sk-toggleable\"><input class=\"sk-toggleable__control sk-hidden--visually\" id=\"sk-estimator-id-1\" type=\"checkbox\" checked><label for=\"sk-estimator-id-1\" class=\"sk-toggleable__label sk-toggleable__label-arrow\">CountVectorizer</label><div class=\"sk-toggleable__content\"><pre>CountVectorizer(max_features=1000, ngram_range=(1, 2))</pre></div></div></div></div></div>"
      ],
      "text/plain": [
       "CountVectorizer(max_features=1000, ngram_range=(1, 2))"
      ]
     },
     "execution_count": 19,
     "metadata": {},
     "output_type": "execute_result"
    }
   ],
   "source": [
    "from sklearn.feature_extraction.text import CountVectorizer\n",
    "vectorizer = CountVectorizer(lowercase = True, stop_words = None, max_features = 1000, ngram_range = (1,2), vocabulary = None, binary = False)\n",
    "vectorizer"
   ]
  },
  {
   "cell_type": "code",
   "execution_count": 20,
   "id": "25320ff6",
   "metadata": {
    "execution": {
     "iopub.execute_input": "2024-11-27T07:52:18.556914Z",
     "iopub.status.busy": "2024-11-27T07:52:18.556230Z",
     "iopub.status.idle": "2024-11-27T07:53:13.555589Z",
     "shell.execute_reply": "2024-11-27T07:53:13.554536Z"
    },
    "papermill": {
     "duration": 55.06751,
     "end_time": "2024-11-27T07:53:13.557645",
     "exception": false,
     "start_time": "2024-11-27T07:52:18.490135",
     "status": "completed"
    },
    "tags": []
   },
   "outputs": [],
   "source": [
    "vect=vectorizer.fit_transform(data['clean_review'])"
   ]
  },
  {
   "cell_type": "code",
   "execution_count": 21,
   "id": "dce9f9db",
   "metadata": {
    "execution": {
     "iopub.execute_input": "2024-11-27T07:53:13.690450Z",
     "iopub.status.busy": "2024-11-27T07:53:13.690107Z",
     "iopub.status.idle": "2024-11-27T07:53:13.771315Z",
     "shell.execute_reply": "2024-11-27T07:53:13.770261Z"
    },
    "papermill": {
     "duration": 0.149352,
     "end_time": "2024-11-27T07:53:13.773076",
     "exception": false,
     "start_time": "2024-11-27T07:53:13.623724",
     "status": "completed"
    },
    "tags": []
   },
   "outputs": [
    {
     "name": "stdout",
     "output_type": "stream",
     "text": [
      "<Compressed Sparse Row sparse matrix of dtype 'int64'\n",
      "\twith 9279939 stored elements and shape (400000, 1000)>\n",
      "  Coords\tValues\n",
      "  (0, 371)\t2\n",
      "  (0, 133)\t4\n",
      "  (0, 511)\t2\n",
      "  (0, 594)\t3\n",
      "  (0, 931)\t1\n",
      "  (0, 355)\t1\n",
      "  (0, 495)\t1\n",
      "  (0, 992)\t1\n",
      "  (0, 830)\t1\n",
      "  (0, 425)\t1\n",
      "  (0, 367)\t1\n",
      "  (0, 520)\t1\n",
      "  (0, 311)\t1\n",
      "  (0, 86)\t1\n",
      "  (0, 69)\t1\n",
      "  (0, 490)\t1\n",
      "  (0, 488)\t2\n",
      "  (0, 930)\t1\n",
      "  (0, 514)\t1\n",
      "  (0, 461)\t1\n",
      "  (0, 96)\t1\n",
      "  (0, 572)\t1\n",
      "  (0, 516)\t1\n",
      "  (0, 90)\t1\n",
      "  (0, 88)\t1\n",
      "  :\t:\n",
      "  (399999, 189)\t1\n",
      "  (399999, 410)\t1\n",
      "  (399999, 8)\t2\n",
      "  (399999, 67)\t1\n",
      "  (399999, 509)\t2\n",
      "  (399999, 206)\t1\n",
      "  (399999, 415)\t1\n",
      "  (399999, 75)\t1\n",
      "  (399999, 231)\t1\n",
      "  (399999, 620)\t1\n",
      "  (399999, 106)\t1\n",
      "  (399999, 888)\t1\n",
      "  (399999, 47)\t1\n",
      "  (399999, 754)\t1\n",
      "  (399999, 161)\t1\n",
      "  (399999, 455)\t1\n",
      "  (399999, 255)\t1\n",
      "  (399999, 494)\t1\n",
      "  (399999, 724)\t1\n",
      "  (399999, 302)\t1\n",
      "  (399999, 654)\t1\n",
      "  (399999, 393)\t1\n",
      "  (399999, 627)\t1\n",
      "  (399999, 5)\t1\n",
      "  (399999, 744)\t2\n"
     ]
    }
   ],
   "source": [
    "print(vect)"
   ]
  },
  {
   "cell_type": "code",
   "execution_count": 22,
   "id": "eee450ab",
   "metadata": {
    "execution": {
     "iopub.execute_input": "2024-11-27T07:53:13.902708Z",
     "iopub.status.busy": "2024-11-27T07:53:13.902089Z",
     "iopub.status.idle": "2024-11-27T07:53:14.080623Z",
     "shell.execute_reply": "2024-11-27T07:53:14.079539Z"
    },
    "papermill": {
     "duration": 0.245111,
     "end_time": "2024-11-27T07:53:14.082844",
     "exception": false,
     "start_time": "2024-11-27T07:53:13.837733",
     "status": "completed"
    },
    "tags": []
   },
   "outputs": [],
   "source": [
    "import sklearn\n",
    "from sklearn.model_selection import train_test_split \n",
    "x=vect\n",
    "y=data['polarity']\n",
    "\n",
    "x_train, x_test, y_train, y_test = train_test_split( x, y, test_size=0.2, random_state=42, stratify=y)"
   ]
  },
  {
   "cell_type": "code",
   "execution_count": 23,
   "id": "d2a2d8b1",
   "metadata": {
    "execution": {
     "iopub.execute_input": "2024-11-27T07:53:14.216540Z",
     "iopub.status.busy": "2024-11-27T07:53:14.216184Z",
     "iopub.status.idle": "2024-11-27T08:36:46.779497Z",
     "shell.execute_reply": "2024-11-27T08:36:46.778542Z"
    },
    "papermill": {
     "duration": 2612.705732,
     "end_time": "2024-11-27T08:36:46.855727",
     "exception": false,
     "start_time": "2024-11-27T07:53:14.149995",
     "status": "completed"
    },
    "tags": []
   },
   "outputs": [
    {
     "name": "stdout",
     "output_type": "stream",
     "text": [
      "RandomForest:  0.8429875\n",
      "              precision    recall  f1-score   support\n",
      "\n",
      "           0       0.84      0.85      0.84     40000\n",
      "           1       0.85      0.84      0.84     40000\n",
      "\n",
      "    accuracy                           0.84     80000\n",
      "   macro avg       0.84      0.84      0.84     80000\n",
      "weighted avg       0.84      0.84      0.84     80000\n",
      "\n"
     ]
    }
   ],
   "source": [
    "from sklearn.ensemble import RandomForestClassifier\n",
    "from sklearn.metrics import accuracy_score, classification_report\n",
    "rf = RandomForestClassifier()\n",
    "rf.fit(x_train,y_train)\n",
    "y_pred = rf.predict(x_test)\n",
    "accuracy_RF=accuracy_score(y_test,y_pred)\n",
    "print(\"RandomForest: \",accuracy_RF)\n",
    "print(classification_report(y_test, y_pred))"
   ]
  }
 ],
 "metadata": {
  "kaggle": {
   "accelerator": "gpu",
   "dataSources": [
    {
     "datasetId": 1340369,
     "sourceId": 2233682,
     "sourceType": "datasetVersion"
    }
   ],
   "isGpuEnabled": true,
   "isInternetEnabled": true,
   "language": "python",
   "sourceType": "notebook"
  },
  "kernelspec": {
   "display_name": "Python 3",
   "language": "python",
   "name": "python3"
  },
  "language_info": {
   "codemirror_mode": {
    "name": "ipython",
    "version": 3
   },
   "file_extension": ".py",
   "mimetype": "text/x-python",
   "name": "python",
   "nbconvert_exporter": "python",
   "pygments_lexer": "ipython3",
   "version": "3.10.14"
  },
  "papermill": {
   "default_parameters": {},
   "duration": 3270.99281,
   "end_time": "2024-11-27T08:36:49.955093",
   "environment_variables": {},
   "exception": null,
   "input_path": "__notebook__.ipynb",
   "output_path": "__notebook__.ipynb",
   "parameters": {},
   "start_time": "2024-11-27T07:42:18.962283",
   "version": "2.6.0"
  }
 },
 "nbformat": 4,
 "nbformat_minor": 5
}
