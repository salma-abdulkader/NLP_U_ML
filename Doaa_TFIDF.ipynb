{
 "cells": [
  {
   "cell_type": "code",
   "execution_count": 1,
   "id": "4b515453",
   "metadata": {
    "execution": {
     "iopub.execute_input": "2024-11-26T05:08:54.506308Z",
     "iopub.status.busy": "2024-11-26T05:08:54.505391Z",
     "iopub.status.idle": "2024-11-26T05:08:57.395995Z",
     "shell.execute_reply": "2024-11-26T05:08:57.395052Z"
    },
    "papermill": {
     "duration": 2.897826,
     "end_time": "2024-11-26T05:08:57.398061",
     "exception": false,
     "start_time": "2024-11-26T05:08:54.500235",
     "status": "completed"
    },
    "tags": []
   },
   "outputs": [],
   "source": [
    "import pandas as pd \n",
    "import numpy as np\n",
    "import matplotlib.pyplot as plt\n",
    "import seaborn as sns\n",
    "import nltk\n",
    "import re\n",
    "import emoji\n",
    "from nltk.corpus import stopwords\n",
    "from nltk.tokenize import word_tokenize\n",
    "from nltk.stem import PorterStemmer , WordNetLemmatizer\n",
    "from sklearn.feature_extraction.text import TfidfVectorizer\n",
    "from sklearn.model_selection import train_test_split\n",
    "from sklearn.ensemble import RandomForestClassifier\n",
    "from sklearn.metrics import classification_report ,accuracy_score,confusion_matrix"
   ]
  },
  {
   "cell_type": "code",
   "execution_count": 2,
   "id": "d654e1de",
   "metadata": {
    "execution": {
     "iopub.execute_input": "2024-11-26T05:08:57.406586Z",
     "iopub.status.busy": "2024-11-26T05:08:57.405909Z",
     "iopub.status.idle": "2024-11-26T05:09:03.794909Z",
     "shell.execute_reply": "2024-11-26T05:09:03.793881Z"
    },
    "papermill": {
     "duration": 6.394953,
     "end_time": "2024-11-26T05:09:03.796793",
     "exception": false,
     "start_time": "2024-11-26T05:08:57.401840",
     "status": "completed"
    },
    "tags": []
   },
   "outputs": [
    {
     "data": {
      "text/html": [
       "<div>\n",
       "<style scoped>\n",
       "    .dataframe tbody tr th:only-of-type {\n",
       "        vertical-align: middle;\n",
       "    }\n",
       "\n",
       "    .dataframe tbody tr th {\n",
       "        vertical-align: top;\n",
       "    }\n",
       "\n",
       "    .dataframe thead th {\n",
       "        text-align: right;\n",
       "    }\n",
       "</style>\n",
       "<table border=\"1\" class=\"dataframe\">\n",
       "  <thead>\n",
       "    <tr style=\"text-align: right;\">\n",
       "      <th></th>\n",
       "      <th>polarity</th>\n",
       "      <th>title_review</th>\n",
       "      <th>text_review</th>\n",
       "    </tr>\n",
       "  </thead>\n",
       "  <tbody>\n",
       "    <tr>\n",
       "      <th>0</th>\n",
       "      <td>2</td>\n",
       "      <td>Great CD</td>\n",
       "      <td>My lovely Pat has one of the GREAT voices of h...</td>\n",
       "    </tr>\n",
       "    <tr>\n",
       "      <th>1</th>\n",
       "      <td>2</td>\n",
       "      <td>One of the best game music soundtracks - for a...</td>\n",
       "      <td>Despite the fact that I have only played a sma...</td>\n",
       "    </tr>\n",
       "    <tr>\n",
       "      <th>2</th>\n",
       "      <td>1</td>\n",
       "      <td>Batteries died within a year ...</td>\n",
       "      <td>I bought this charger in Jul 2003 and it worke...</td>\n",
       "    </tr>\n",
       "    <tr>\n",
       "      <th>3</th>\n",
       "      <td>2</td>\n",
       "      <td>works fine, but Maha Energy is better</td>\n",
       "      <td>Check out Maha Energy's website. Their Powerex...</td>\n",
       "    </tr>\n",
       "    <tr>\n",
       "      <th>4</th>\n",
       "      <td>2</td>\n",
       "      <td>Great for the non-audiophile</td>\n",
       "      <td>Reviewed quite a bit of the combo players and ...</td>\n",
       "    </tr>\n",
       "  </tbody>\n",
       "</table>\n",
       "</div>"
      ],
      "text/plain": [
       "   polarity                                       title_review  \\\n",
       "0         2                                           Great CD   \n",
       "1         2  One of the best game music soundtracks - for a...   \n",
       "2         1                   Batteries died within a year ...   \n",
       "3         2              works fine, but Maha Energy is better   \n",
       "4         2                       Great for the non-audiophile   \n",
       "\n",
       "                                         text_review  \n",
       "0  My lovely Pat has one of the GREAT voices of h...  \n",
       "1  Despite the fact that I have only played a sma...  \n",
       "2  I bought this charger in Jul 2003 and it worke...  \n",
       "3  Check out Maha Energy's website. Their Powerex...  \n",
       "4  Reviewed quite a bit of the combo players and ...  "
      ]
     },
     "execution_count": 2,
     "metadata": {},
     "output_type": "execute_result"
    }
   ],
   "source": [
    "name_columns=['polarity','title_review','text_review']\n",
    "df=pd.read_csv('/kaggle/input/amazon-reviews/test.csv',header=None,names=name_columns)\n",
    "df.head()"
   ]
  },
  {
   "cell_type": "code",
   "execution_count": 3,
   "id": "592bd794",
   "metadata": {
    "execution": {
     "iopub.execute_input": "2024-11-26T05:09:03.805551Z",
     "iopub.status.busy": "2024-11-26T05:09:03.804852Z",
     "iopub.status.idle": "2024-11-26T05:09:03.810074Z",
     "shell.execute_reply": "2024-11-26T05:09:03.809288Z"
    },
    "papermill": {
     "duration": 0.011182,
     "end_time": "2024-11-26T05:09:03.811593",
     "exception": false,
     "start_time": "2024-11-26T05:09:03.800411",
     "status": "completed"
    },
    "tags": []
   },
   "outputs": [
    {
     "data": {
      "text/plain": [
       "(400000, 3)"
      ]
     },
     "execution_count": 3,
     "metadata": {},
     "output_type": "execute_result"
    }
   ],
   "source": [
    "df.shape"
   ]
  },
  {
   "cell_type": "code",
   "execution_count": 4,
   "id": "d017750c",
   "metadata": {
    "execution": {
     "iopub.execute_input": "2024-11-26T05:09:03.820722Z",
     "iopub.status.busy": "2024-11-26T05:09:03.820220Z",
     "iopub.status.idle": "2024-11-26T05:09:03.893245Z",
     "shell.execute_reply": "2024-11-26T05:09:03.892418Z"
    },
    "papermill": {
     "duration": 0.078679,
     "end_time": "2024-11-26T05:09:03.894840",
     "exception": false,
     "start_time": "2024-11-26T05:09:03.816161",
     "status": "completed"
    },
    "tags": []
   },
   "outputs": [
    {
     "data": {
      "text/plain": [
       "polarity         0\n",
       "title_review    24\n",
       "text_review      0\n",
       "dtype: int64"
      ]
     },
     "execution_count": 4,
     "metadata": {},
     "output_type": "execute_result"
    }
   ],
   "source": [
    "df.isnull().sum()"
   ]
  },
  {
   "cell_type": "code",
   "execution_count": 5,
   "id": "b0f918c1",
   "metadata": {
    "execution": {
     "iopub.execute_input": "2024-11-26T05:09:03.903271Z",
     "iopub.status.busy": "2024-11-26T05:09:03.902781Z",
     "iopub.status.idle": "2024-11-26T05:09:03.997263Z",
     "shell.execute_reply": "2024-11-26T05:09:03.996571Z"
    },
    "papermill": {
     "duration": 0.100622,
     "end_time": "2024-11-26T05:09:03.999034",
     "exception": false,
     "start_time": "2024-11-26T05:09:03.898412",
     "status": "completed"
    },
    "tags": []
   },
   "outputs": [],
   "source": [
    "df.dropna(inplace=True)"
   ]
  },
  {
   "cell_type": "code",
   "execution_count": 6,
   "id": "15ed7625",
   "metadata": {
    "execution": {
     "iopub.execute_input": "2024-11-26T05:09:04.007563Z",
     "iopub.status.busy": "2024-11-26T05:09:04.007289Z",
     "iopub.status.idle": "2024-11-26T05:09:04.568864Z",
     "shell.execute_reply": "2024-11-26T05:09:04.567883Z"
    },
    "papermill": {
     "duration": 0.567886,
     "end_time": "2024-11-26T05:09:04.570843",
     "exception": false,
     "start_time": "2024-11-26T05:09:04.002957",
     "status": "completed"
    },
    "tags": []
   },
   "outputs": [
    {
     "data": {
      "text/plain": [
       "0"
      ]
     },
     "execution_count": 6,
     "metadata": {},
     "output_type": "execute_result"
    }
   ],
   "source": [
    "df.duplicated().sum()"
   ]
  },
  {
   "cell_type": "code",
   "execution_count": 7,
   "id": "d0a9438e",
   "metadata": {
    "execution": {
     "iopub.execute_input": "2024-11-26T05:09:04.580706Z",
     "iopub.status.busy": "2024-11-26T05:09:04.580035Z",
     "iopub.status.idle": "2024-11-26T05:09:04.585367Z",
     "shell.execute_reply": "2024-11-26T05:09:04.584560Z"
    },
    "papermill": {
     "duration": 0.011983,
     "end_time": "2024-11-26T05:09:04.587148",
     "exception": false,
     "start_time": "2024-11-26T05:09:04.575165",
     "status": "completed"
    },
    "tags": []
   },
   "outputs": [
    {
     "data": {
      "text/plain": [
       "(399976, 3)"
      ]
     },
     "execution_count": 7,
     "metadata": {},
     "output_type": "execute_result"
    }
   ],
   "source": [
    "df.shape"
   ]
  },
  {
   "cell_type": "code",
   "execution_count": 8,
   "id": "7a65d6b8",
   "metadata": {
    "execution": {
     "iopub.execute_input": "2024-11-26T05:09:04.596250Z",
     "iopub.status.busy": "2024-11-26T05:09:04.596003Z",
     "iopub.status.idle": "2024-11-26T05:09:04.872249Z",
     "shell.execute_reply": "2024-11-26T05:09:04.871251Z"
    },
    "papermill": {
     "duration": 0.283316,
     "end_time": "2024-11-26T05:09:04.874425",
     "exception": false,
     "start_time": "2024-11-26T05:09:04.591109",
     "status": "completed"
    },
    "tags": []
   },
   "outputs": [
    {
     "data": {
      "text/html": [
       "<div>\n",
       "<style scoped>\n",
       "    .dataframe tbody tr th:only-of-type {\n",
       "        vertical-align: middle;\n",
       "    }\n",
       "\n",
       "    .dataframe tbody tr th {\n",
       "        vertical-align: top;\n",
       "    }\n",
       "\n",
       "    .dataframe thead th {\n",
       "        text-align: right;\n",
       "    }\n",
       "</style>\n",
       "<table border=\"1\" class=\"dataframe\">\n",
       "  <thead>\n",
       "    <tr style=\"text-align: right;\">\n",
       "      <th></th>\n",
       "      <th>polarity</th>\n",
       "      <th>title_review</th>\n",
       "      <th>text_review</th>\n",
       "      <th>full_review</th>\n",
       "    </tr>\n",
       "  </thead>\n",
       "  <tbody>\n",
       "    <tr>\n",
       "      <th>0</th>\n",
       "      <td>2</td>\n",
       "      <td>Great CD</td>\n",
       "      <td>My lovely Pat has one of the GREAT voices of h...</td>\n",
       "      <td>Great CD My lovely Pat has one of the GREAT vo...</td>\n",
       "    </tr>\n",
       "    <tr>\n",
       "      <th>1</th>\n",
       "      <td>2</td>\n",
       "      <td>One of the best game music soundtracks - for a...</td>\n",
       "      <td>Despite the fact that I have only played a sma...</td>\n",
       "      <td>One of the best game music soundtracks - for a...</td>\n",
       "    </tr>\n",
       "    <tr>\n",
       "      <th>2</th>\n",
       "      <td>1</td>\n",
       "      <td>Batteries died within a year ...</td>\n",
       "      <td>I bought this charger in Jul 2003 and it worke...</td>\n",
       "      <td>Batteries died within a year ... I bought this...</td>\n",
       "    </tr>\n",
       "    <tr>\n",
       "      <th>3</th>\n",
       "      <td>2</td>\n",
       "      <td>works fine, but Maha Energy is better</td>\n",
       "      <td>Check out Maha Energy's website. Their Powerex...</td>\n",
       "      <td>works fine, but Maha Energy is better Check ou...</td>\n",
       "    </tr>\n",
       "    <tr>\n",
       "      <th>4</th>\n",
       "      <td>2</td>\n",
       "      <td>Great for the non-audiophile</td>\n",
       "      <td>Reviewed quite a bit of the combo players and ...</td>\n",
       "      <td>Great for the non-audiophile Reviewed quite a ...</td>\n",
       "    </tr>\n",
       "  </tbody>\n",
       "</table>\n",
       "</div>"
      ],
      "text/plain": [
       "   polarity                                       title_review  \\\n",
       "0         2                                           Great CD   \n",
       "1         2  One of the best game music soundtracks - for a...   \n",
       "2         1                   Batteries died within a year ...   \n",
       "3         2              works fine, but Maha Energy is better   \n",
       "4         2                       Great for the non-audiophile   \n",
       "\n",
       "                                         text_review  \\\n",
       "0  My lovely Pat has one of the GREAT voices of h...   \n",
       "1  Despite the fact that I have only played a sma...   \n",
       "2  I bought this charger in Jul 2003 and it worke...   \n",
       "3  Check out Maha Energy's website. Their Powerex...   \n",
       "4  Reviewed quite a bit of the combo players and ...   \n",
       "\n",
       "                                         full_review  \n",
       "0  Great CD My lovely Pat has one of the GREAT vo...  \n",
       "1  One of the best game music soundtracks - for a...  \n",
       "2  Batteries died within a year ... I bought this...  \n",
       "3  works fine, but Maha Energy is better Check ou...  \n",
       "4  Great for the non-audiophile Reviewed quite a ...  "
      ]
     },
     "execution_count": 8,
     "metadata": {},
     "output_type": "execute_result"
    }
   ],
   "source": [
    "df[\"full_review\"] = df[\"title_review\"] + \" \" + df[\"text_review\"]\n",
    "df.head()"
   ]
  },
  {
   "cell_type": "code",
   "execution_count": 9,
   "id": "f5f0971a",
   "metadata": {
    "execution": {
     "iopub.execute_input": "2024-11-26T05:09:04.885831Z",
     "iopub.status.busy": "2024-11-26T05:09:04.885479Z",
     "iopub.status.idle": "2024-11-26T05:09:04.907179Z",
     "shell.execute_reply": "2024-11-26T05:09:04.906374Z"
    },
    "papermill": {
     "duration": 0.029378,
     "end_time": "2024-11-26T05:09:04.908927",
     "exception": false,
     "start_time": "2024-11-26T05:09:04.879549",
     "status": "completed"
    },
    "tags": []
   },
   "outputs": [
    {
     "data": {
      "text/html": [
       "<div>\n",
       "<style scoped>\n",
       "    .dataframe tbody tr th:only-of-type {\n",
       "        vertical-align: middle;\n",
       "    }\n",
       "\n",
       "    .dataframe tbody tr th {\n",
       "        vertical-align: top;\n",
       "    }\n",
       "\n",
       "    .dataframe thead th {\n",
       "        text-align: right;\n",
       "    }\n",
       "</style>\n",
       "<table border=\"1\" class=\"dataframe\">\n",
       "  <thead>\n",
       "    <tr style=\"text-align: right;\">\n",
       "      <th></th>\n",
       "      <th>polarity</th>\n",
       "      <th>title_review</th>\n",
       "      <th>text_review</th>\n",
       "      <th>full_review</th>\n",
       "    </tr>\n",
       "  </thead>\n",
       "  <tbody>\n",
       "    <tr>\n",
       "      <th>0</th>\n",
       "      <td>1</td>\n",
       "      <td>Great CD</td>\n",
       "      <td>My lovely Pat has one of the GREAT voices of h...</td>\n",
       "      <td>Great CD My lovely Pat has one of the GREAT vo...</td>\n",
       "    </tr>\n",
       "    <tr>\n",
       "      <th>1</th>\n",
       "      <td>1</td>\n",
       "      <td>One of the best game music soundtracks - for a...</td>\n",
       "      <td>Despite the fact that I have only played a sma...</td>\n",
       "      <td>One of the best game music soundtracks - for a...</td>\n",
       "    </tr>\n",
       "    <tr>\n",
       "      <th>2</th>\n",
       "      <td>0</td>\n",
       "      <td>Batteries died within a year ...</td>\n",
       "      <td>I bought this charger in Jul 2003 and it worke...</td>\n",
       "      <td>Batteries died within a year ... I bought this...</td>\n",
       "    </tr>\n",
       "    <tr>\n",
       "      <th>3</th>\n",
       "      <td>1</td>\n",
       "      <td>works fine, but Maha Energy is better</td>\n",
       "      <td>Check out Maha Energy's website. Their Powerex...</td>\n",
       "      <td>works fine, but Maha Energy is better Check ou...</td>\n",
       "    </tr>\n",
       "    <tr>\n",
       "      <th>4</th>\n",
       "      <td>1</td>\n",
       "      <td>Great for the non-audiophile</td>\n",
       "      <td>Reviewed quite a bit of the combo players and ...</td>\n",
       "      <td>Great for the non-audiophile Reviewed quite a ...</td>\n",
       "    </tr>\n",
       "  </tbody>\n",
       "</table>\n",
       "</div>"
      ],
      "text/plain": [
       "   polarity                                       title_review  \\\n",
       "0         1                                           Great CD   \n",
       "1         1  One of the best game music soundtracks - for a...   \n",
       "2         0                   Batteries died within a year ...   \n",
       "3         1              works fine, but Maha Energy is better   \n",
       "4         1                       Great for the non-audiophile   \n",
       "\n",
       "                                         text_review  \\\n",
       "0  My lovely Pat has one of the GREAT voices of h...   \n",
       "1  Despite the fact that I have only played a sma...   \n",
       "2  I bought this charger in Jul 2003 and it worke...   \n",
       "3  Check out Maha Energy's website. Their Powerex...   \n",
       "4  Reviewed quite a bit of the combo players and ...   \n",
       "\n",
       "                                         full_review  \n",
       "0  Great CD My lovely Pat has one of the GREAT vo...  \n",
       "1  One of the best game music soundtracks - for a...  \n",
       "2  Batteries died within a year ... I bought this...  \n",
       "3  works fine, but Maha Energy is better Check ou...  \n",
       "4  Great for the non-audiophile Reviewed quite a ...  "
      ]
     },
     "execution_count": 9,
     "metadata": {},
     "output_type": "execute_result"
    }
   ],
   "source": [
    "df['polarity']=df['polarity'].replace({2:1,1:0})\n",
    "df.head()"
   ]
  },
  {
   "cell_type": "code",
   "execution_count": 10,
   "id": "3d40ddb2",
   "metadata": {
    "execution": {
     "iopub.execute_input": "2024-11-26T05:09:04.919264Z",
     "iopub.status.busy": "2024-11-26T05:09:04.919025Z",
     "iopub.status.idle": "2024-11-26T05:09:05.200988Z",
     "shell.execute_reply": "2024-11-26T05:09:05.200215Z"
    },
    "papermill": {
     "duration": 0.289238,
     "end_time": "2024-11-26T05:09:05.202905",
     "exception": false,
     "start_time": "2024-11-26T05:09:04.913667",
     "status": "completed"
    },
    "tags": []
   },
   "outputs": [
    {
     "data": {
      "image/png": "[encoded data removed]",
      "text/plain": [
       "<Figure size 800x500 with 1 Axes>"
      ]
     },
     "metadata": {},
     "output_type": "display_data"
    }
   ],
   "source": [
    "plt.figure(figsize=(8, 5))  \n",
    "sns.countplot(data=df, x='polarity', palette='Blues')\n",
    "\n",
    "plt.title('Count of Reviews by Polarity', fontsize=16)\n",
    "plt.xlabel('Polarity', fontsize=12)\n",
    "plt.ylabel('Count', fontsize=12)\n",
    "plt.xticks(fontsize=10)\n",
    "plt.yticks(fontsize=10)\n",
    "\n",
    "plt.show()"
   ]
  },
  {
   "cell_type": "code",
   "execution_count": 11,
   "id": "ba9631d0",
   "metadata": {
    "execution": {
     "iopub.execute_input": "2024-11-26T05:09:05.213342Z",
     "iopub.status.busy": "2024-11-26T05:09:05.213091Z",
     "iopub.status.idle": "2024-11-26T05:09:05.218397Z",
     "shell.execute_reply": "2024-11-26T05:09:05.217734Z"
    },
    "papermill": {
     "duration": 0.012222,
     "end_time": "2024-11-26T05:09:05.219905",
     "exception": false,
     "start_time": "2024-11-26T05:09:05.207683",
     "status": "completed"
    },
    "tags": []
   },
   "outputs": [],
   "source": [
    "def lowercasing(text):\n",
    "    return text.lower()\n",
    "\n",
    "def remove_noise(text):\n",
    "    # Remove punctuation, numbers, and symbols \n",
    "    return re.sub(r'[^a-zA-Z\\s]', '', text)\n",
    "\n",
    "def tokenization(text):\n",
    "    return word_tokenize(text)\n",
    "\n",
    "def remove_stopwords(tokens):\n",
    "    stop_words=set(stopwords.words('english'))\n",
    "    return [word for word in tokens if word not in stop_words]\n",
    "\n",
    "def stemming(tokens):\n",
    "    stemmer=PorterStemmer()\n",
    "    [stemmer.stem(token) for token in tokens]\n",
    "    return ' '.join(tokens)"
   ]
  },
  {
   "cell_type": "code",
   "execution_count": 12,
   "id": "9ae4cc0b",
   "metadata": {
    "execution": {
     "iopub.execute_input": "2024-11-26T05:09:05.229881Z",
     "iopub.status.busy": "2024-11-26T05:09:05.229613Z",
     "iopub.status.idle": "2024-11-26T05:09:05.559515Z",
     "shell.execute_reply": "2024-11-26T05:09:05.558562Z"
    },
    "papermill": {
     "duration": 0.337178,
     "end_time": "2024-11-26T05:09:05.561649",
     "exception": false,
     "start_time": "2024-11-26T05:09:05.224471",
     "status": "completed"
    },
    "tags": []
   },
   "outputs": [],
   "source": [
    "df['cleaned_review'] = df['full_review'].apply(lowercasing)"
   ]
  },
  {
   "cell_type": "code",
   "execution_count": 13,
   "id": "70fee59b",
   "metadata": {
    "execution": {
     "iopub.execute_input": "2024-11-26T05:09:05.572683Z",
     "iopub.status.busy": "2024-11-26T05:09:05.572398Z",
     "iopub.status.idle": "2024-11-26T05:09:08.787475Z",
     "shell.execute_reply": "2024-11-26T05:09:08.786755Z"
    },
    "papermill": {
     "duration": 3.222846,
     "end_time": "2024-11-26T05:09:08.789659",
     "exception": false,
     "start_time": "2024-11-26T05:09:05.566813",
     "status": "completed"
    },
    "tags": []
   },
   "outputs": [],
   "source": [
    "df['cleaned_review'] = df['cleaned_review'].apply(remove_noise)"
   ]
  },
  {
   "cell_type": "code",
   "execution_count": 14,
   "id": "4c9d97ea",
   "metadata": {
    "execution": {
     "iopub.execute_input": "2024-11-26T05:09:08.802077Z",
     "iopub.status.busy": "2024-11-26T05:09:08.801797Z",
     "iopub.status.idle": "2024-11-26T05:11:21.725034Z",
     "shell.execute_reply": "2024-11-26T05:11:21.724292Z"
    },
    "papermill": {
     "duration": 132.93228,
     "end_time": "2024-11-26T05:11:21.727255",
     "exception": false,
     "start_time": "2024-11-26T05:09:08.794975",
     "status": "completed"
    },
    "tags": []
   },
   "outputs": [],
   "source": [
    "# Remove emojis\n",
    "df['cleaned_review'] = df['cleaned_review'].apply(lambda x: emoji.demojize(x))"
   ]
  },
  {
   "cell_type": "code",
   "execution_count": 15,
   "id": "71248acb",
   "metadata": {
    "execution": {
     "iopub.execute_input": "2024-11-26T05:11:21.738328Z",
     "iopub.status.busy": "2024-11-26T05:11:21.738081Z",
     "iopub.status.idle": "2024-11-26T05:13:12.125588Z",
     "shell.execute_reply": "2024-11-26T05:13:12.124585Z"
    },
    "papermill": {
     "duration": 110.395349,
     "end_time": "2024-11-26T05:13:12.127814",
     "exception": false,
     "start_time": "2024-11-26T05:11:21.732465",
     "status": "completed"
    },
    "tags": []
   },
   "outputs": [],
   "source": [
    "df['cleaned_review'] = df['cleaned_review'].apply(tokenization)"
   ]
  },
  {
   "cell_type": "code",
   "execution_count": 16,
   "id": "ee4cdde0",
   "metadata": {
    "execution": {
     "iopub.execute_input": "2024-11-26T05:13:12.139106Z",
     "iopub.status.busy": "2024-11-26T05:13:12.138828Z",
     "iopub.status.idle": "2024-11-26T05:13:59.425781Z",
     "shell.execute_reply": "2024-11-26T05:13:59.424548Z"
    },
    "papermill": {
     "duration": 47.295967,
     "end_time": "2024-11-26T05:13:59.428985",
     "exception": false,
     "start_time": "2024-11-26T05:13:12.133018",
     "status": "completed"
    },
    "tags": []
   },
   "outputs": [],
   "source": [
    "df['cleaned_review'] = df['cleaned_review'].apply(remove_stopwords)"
   ]
  },
  {
   "cell_type": "code",
   "execution_count": 17,
   "id": "7e60c092",
   "metadata": {
    "execution": {
     "iopub.execute_input": "2024-11-26T05:13:59.444918Z",
     "iopub.status.busy": "2024-11-26T05:13:59.444474Z",
     "iopub.status.idle": "2024-11-26T05:18:33.279773Z",
     "shell.execute_reply": "2024-11-26T05:18:33.278767Z"
    },
    "papermill": {
     "duration": 273.846293,
     "end_time": "2024-11-26T05:18:33.282103",
     "exception": false,
     "start_time": "2024-11-26T05:13:59.435810",
     "status": "completed"
    },
    "tags": []
   },
   "outputs": [],
   "source": [
    "df['cleaned_review'] = df['cleaned_review'].apply(stemming)"
   ]
  },
  {
   "cell_type": "code",
   "execution_count": 18,
   "id": "5d455ef4",
   "metadata": {
    "execution": {
     "iopub.execute_input": "2024-11-26T05:18:33.293291Z",
     "iopub.status.busy": "2024-11-26T05:18:33.293014Z",
     "iopub.status.idle": "2024-11-26T05:18:33.302360Z",
     "shell.execute_reply": "2024-11-26T05:18:33.301583Z"
    },
    "papermill": {
     "duration": 0.016392,
     "end_time": "2024-11-26T05:18:33.303811",
     "exception": false,
     "start_time": "2024-11-26T05:18:33.287419",
     "status": "completed"
    },
    "tags": []
   },
   "outputs": [
    {
     "data": {
      "text/html": [
       "<div>\n",
       "<style scoped>\n",
       "    .dataframe tbody tr th:only-of-type {\n",
       "        vertical-align: middle;\n",
       "    }\n",
       "\n",
       "    .dataframe tbody tr th {\n",
       "        vertical-align: top;\n",
       "    }\n",
       "\n",
       "    .dataframe thead th {\n",
       "        text-align: right;\n",
       "    }\n",
       "</style>\n",
       "<table border=\"1\" class=\"dataframe\">\n",
       "  <thead>\n",
       "    <tr style=\"text-align: right;\">\n",
       "      <th></th>\n",
       "      <th>polarity</th>\n",
       "      <th>title_review</th>\n",
       "      <th>text_review</th>\n",
       "      <th>full_review</th>\n",
       "      <th>cleaned_review</th>\n",
       "    </tr>\n",
       "  </thead>\n",
       "  <tbody>\n",
       "    <tr>\n",
       "      <th>0</th>\n",
       "      <td>1</td>\n",
       "      <td>Great CD</td>\n",
       "      <td>My lovely Pat has one of the GREAT voices of h...</td>\n",
       "      <td>Great CD My lovely Pat has one of the GREAT vo...</td>\n",
       "      <td>great cd lovely pat one great voices generatio...</td>\n",
       "    </tr>\n",
       "    <tr>\n",
       "      <th>1</th>\n",
       "      <td>1</td>\n",
       "      <td>One of the best game music soundtracks - for a...</td>\n",
       "      <td>Despite the fact that I have only played a sma...</td>\n",
       "      <td>One of the best game music soundtracks - for a...</td>\n",
       "      <td>one best game music soundtracks game didnt rea...</td>\n",
       "    </tr>\n",
       "    <tr>\n",
       "      <th>2</th>\n",
       "      <td>0</td>\n",
       "      <td>Batteries died within a year ...</td>\n",
       "      <td>I bought this charger in Jul 2003 and it worke...</td>\n",
       "      <td>Batteries died within a year ... I bought this...</td>\n",
       "      <td>batteries died within year bought charger jul ...</td>\n",
       "    </tr>\n",
       "    <tr>\n",
       "      <th>3</th>\n",
       "      <td>1</td>\n",
       "      <td>works fine, but Maha Energy is better</td>\n",
       "      <td>Check out Maha Energy's website. Their Powerex...</td>\n",
       "      <td>works fine, but Maha Energy is better Check ou...</td>\n",
       "      <td>works fine maha energy better check maha energ...</td>\n",
       "    </tr>\n",
       "    <tr>\n",
       "      <th>4</th>\n",
       "      <td>1</td>\n",
       "      <td>Great for the non-audiophile</td>\n",
       "      <td>Reviewed quite a bit of the combo players and ...</td>\n",
       "      <td>Great for the non-audiophile Reviewed quite a ...</td>\n",
       "      <td>great nonaudiophile reviewed quite bit combo p...</td>\n",
       "    </tr>\n",
       "  </tbody>\n",
       "</table>\n",
       "</div>"
      ],
      "text/plain": [
       "   polarity                                       title_review  \\\n",
       "0         1                                           Great CD   \n",
       "1         1  One of the best game music soundtracks - for a...   \n",
       "2         0                   Batteries died within a year ...   \n",
       "3         1              works fine, but Maha Energy is better   \n",
       "4         1                       Great for the non-audiophile   \n",
       "\n",
       "                                         text_review  \\\n",
       "0  My lovely Pat has one of the GREAT voices of h...   \n",
       "1  Despite the fact that I have only played a sma...   \n",
       "2  I bought this charger in Jul 2003 and it worke...   \n",
       "3  Check out Maha Energy's website. Their Powerex...   \n",
       "4  Reviewed quite a bit of the combo players and ...   \n",
       "\n",
       "                                         full_review  \\\n",
       "0  Great CD My lovely Pat has one of the GREAT vo...   \n",
       "1  One of the best game music soundtracks - for a...   \n",
       "2  Batteries died within a year ... I bought this...   \n",
       "3  works fine, but Maha Energy is better Check ou...   \n",
       "4  Great for the non-audiophile Reviewed quite a ...   \n",
       "\n",
       "                                      cleaned_review  \n",
       "0  great cd lovely pat one great voices generatio...  \n",
       "1  one best game music soundtracks game didnt rea...  \n",
       "2  batteries died within year bought charger jul ...  \n",
       "3  works fine maha energy better check maha energ...  \n",
       "4  great nonaudiophile reviewed quite bit combo p...  "
      ]
     },
     "execution_count": 18,
     "metadata": {},
     "output_type": "execute_result"
    }
   ],
   "source": [
    "df.head()"
   ]
  },
  {
   "cell_type": "code",
   "execution_count": 19,
   "id": "41cc567a",
   "metadata": {
    "execution": {
     "iopub.execute_input": "2024-11-26T05:18:33.314713Z",
     "iopub.status.busy": "2024-11-26T05:18:33.314438Z",
     "iopub.status.idle": "2024-11-26T05:18:46.665319Z",
     "shell.execute_reply": "2024-11-26T05:18:46.664365Z"
    },
    "papermill": {
     "duration": 13.358737,
     "end_time": "2024-11-26T05:18:46.667448",
     "exception": false,
     "start_time": "2024-11-26T05:18:33.308711",
     "status": "completed"
    },
    "tags": []
   },
   "outputs": [],
   "source": [
    "# TF-IDF Vectorization\n",
    "tfidf = TfidfVectorizer(max_features=10000)\n",
    "tfidf_matrix = tfidf.fit_transform(df['cleaned_review'])"
   ]
  },
  {
   "cell_type": "code",
   "execution_count": 20,
   "id": "3d9b4cc8",
   "metadata": {
    "execution": {
     "iopub.execute_input": "2024-11-26T05:18:46.678951Z",
     "iopub.status.busy": "2024-11-26T05:18:46.678689Z",
     "iopub.status.idle": "2024-11-26T05:19:18.096113Z",
     "shell.execute_reply": "2024-11-26T05:19:18.095298Z"
    },
    "papermill": {
     "duration": 31.425545,
     "end_time": "2024-11-26T05:19:18.098412",
     "exception": false,
     "start_time": "2024-11-26T05:18:46.672867",
     "status": "completed"
    },
    "tags": []
   },
   "outputs": [],
   "source": [
    "# Convert TF-IDF matrix to a DataFrame\n",
    "tfidf_df = pd.DataFrame(tfidf_matrix.toarray(), columns=tfidf.get_feature_names_out())"
   ]
  },
  {
   "cell_type": "code",
   "execution_count": 21,
   "id": "2a3feabb",
   "metadata": {
    "execution": {
     "iopub.execute_input": "2024-11-26T05:19:18.110462Z",
     "iopub.status.busy": "2024-11-26T05:19:18.110163Z",
     "iopub.status.idle": "2024-11-26T05:19:18.796017Z",
     "shell.execute_reply": "2024-11-26T05:19:18.795069Z"
    },
    "papermill": {
     "duration": 0.693428,
     "end_time": "2024-11-26T05:19:18.797703",
     "exception": false,
     "start_time": "2024-11-26T05:19:18.104275",
     "status": "completed"
    },
    "tags": []
   },
   "outputs": [
    {
     "data": {
      "text/html": [
       "<div>\n",
       "<style scoped>\n",
       "    .dataframe tbody tr th:only-of-type {\n",
       "        vertical-align: middle;\n",
       "    }\n",
       "\n",
       "    .dataframe tbody tr th {\n",
       "        vertical-align: top;\n",
       "    }\n",
       "\n",
       "    .dataframe thead th {\n",
       "        text-align: right;\n",
       "    }\n",
       "</style>\n",
       "<table border=\"1\" class=\"dataframe\">\n",
       "  <thead>\n",
       "    <tr style=\"text-align: right;\">\n",
       "      <th></th>\n",
       "      <th>aa</th>\n",
       "      <th>aaa</th>\n",
       "      <th>aaron</th>\n",
       "      <th>ab</th>\n",
       "      <th>abandon</th>\n",
       "      <th>abandoned</th>\n",
       "      <th>abbey</th>\n",
       "      <th>abc</th>\n",
       "      <th>abilities</th>\n",
       "      <th>ability</th>\n",
       "      <th>...</th>\n",
       "      <th>zero</th>\n",
       "      <th>zip</th>\n",
       "      <th>zipper</th>\n",
       "      <th>zippers</th>\n",
       "      <th>zombie</th>\n",
       "      <th>zombies</th>\n",
       "      <th>zone</th>\n",
       "      <th>zoo</th>\n",
       "      <th>zoom</th>\n",
       "      <th>zune</th>\n",
       "    </tr>\n",
       "  </thead>\n",
       "  <tbody>\n",
       "    <tr>\n",
       "      <th>0</th>\n",
       "      <td>0.0</td>\n",
       "      <td>0.0</td>\n",
       "      <td>0.0</td>\n",
       "      <td>0.0</td>\n",
       "      <td>0.0</td>\n",
       "      <td>0.0</td>\n",
       "      <td>0.0</td>\n",
       "      <td>0.0</td>\n",
       "      <td>0.0</td>\n",
       "      <td>0.0</td>\n",
       "      <td>...</td>\n",
       "      <td>0.0</td>\n",
       "      <td>0.0</td>\n",
       "      <td>0.0</td>\n",
       "      <td>0.0</td>\n",
       "      <td>0.0</td>\n",
       "      <td>0.0</td>\n",
       "      <td>0.0</td>\n",
       "      <td>0.0</td>\n",
       "      <td>0.0</td>\n",
       "      <td>0.0</td>\n",
       "    </tr>\n",
       "    <tr>\n",
       "      <th>1</th>\n",
       "      <td>0.0</td>\n",
       "      <td>0.0</td>\n",
       "      <td>0.0</td>\n",
       "      <td>0.0</td>\n",
       "      <td>0.0</td>\n",
       "      <td>0.0</td>\n",
       "      <td>0.0</td>\n",
       "      <td>0.0</td>\n",
       "      <td>0.0</td>\n",
       "      <td>0.0</td>\n",
       "      <td>...</td>\n",
       "      <td>0.0</td>\n",
       "      <td>0.0</td>\n",
       "      <td>0.0</td>\n",
       "      <td>0.0</td>\n",
       "      <td>0.0</td>\n",
       "      <td>0.0</td>\n",
       "      <td>0.0</td>\n",
       "      <td>0.0</td>\n",
       "      <td>0.0</td>\n",
       "      <td>0.0</td>\n",
       "    </tr>\n",
       "    <tr>\n",
       "      <th>2</th>\n",
       "      <td>0.0</td>\n",
       "      <td>0.0</td>\n",
       "      <td>0.0</td>\n",
       "      <td>0.0</td>\n",
       "      <td>0.0</td>\n",
       "      <td>0.0</td>\n",
       "      <td>0.0</td>\n",
       "      <td>0.0</td>\n",
       "      <td>0.0</td>\n",
       "      <td>0.0</td>\n",
       "      <td>...</td>\n",
       "      <td>0.0</td>\n",
       "      <td>0.0</td>\n",
       "      <td>0.0</td>\n",
       "      <td>0.0</td>\n",
       "      <td>0.0</td>\n",
       "      <td>0.0</td>\n",
       "      <td>0.0</td>\n",
       "      <td>0.0</td>\n",
       "      <td>0.0</td>\n",
       "      <td>0.0</td>\n",
       "    </tr>\n",
       "    <tr>\n",
       "      <th>3</th>\n",
       "      <td>0.0</td>\n",
       "      <td>0.0</td>\n",
       "      <td>0.0</td>\n",
       "      <td>0.0</td>\n",
       "      <td>0.0</td>\n",
       "      <td>0.0</td>\n",
       "      <td>0.0</td>\n",
       "      <td>0.0</td>\n",
       "      <td>0.0</td>\n",
       "      <td>0.0</td>\n",
       "      <td>...</td>\n",
       "      <td>0.0</td>\n",
       "      <td>0.0</td>\n",
       "      <td>0.0</td>\n",
       "      <td>0.0</td>\n",
       "      <td>0.0</td>\n",
       "      <td>0.0</td>\n",
       "      <td>0.0</td>\n",
       "      <td>0.0</td>\n",
       "      <td>0.0</td>\n",
       "      <td>0.0</td>\n",
       "    </tr>\n",
       "    <tr>\n",
       "      <th>4</th>\n",
       "      <td>0.0</td>\n",
       "      <td>0.0</td>\n",
       "      <td>0.0</td>\n",
       "      <td>0.0</td>\n",
       "      <td>0.0</td>\n",
       "      <td>0.0</td>\n",
       "      <td>0.0</td>\n",
       "      <td>0.0</td>\n",
       "      <td>0.0</td>\n",
       "      <td>0.0</td>\n",
       "      <td>...</td>\n",
       "      <td>0.0</td>\n",
       "      <td>0.0</td>\n",
       "      <td>0.0</td>\n",
       "      <td>0.0</td>\n",
       "      <td>0.0</td>\n",
       "      <td>0.0</td>\n",
       "      <td>0.0</td>\n",
       "      <td>0.0</td>\n",
       "      <td>0.0</td>\n",
       "      <td>0.0</td>\n",
       "    </tr>\n",
       "    <tr>\n",
       "      <th>...</th>\n",
       "      <td>...</td>\n",
       "      <td>...</td>\n",
       "      <td>...</td>\n",
       "      <td>...</td>\n",
       "      <td>...</td>\n",
       "      <td>...</td>\n",
       "      <td>...</td>\n",
       "      <td>...</td>\n",
       "      <td>...</td>\n",
       "      <td>...</td>\n",
       "      <td>...</td>\n",
       "      <td>...</td>\n",
       "      <td>...</td>\n",
       "      <td>...</td>\n",
       "      <td>...</td>\n",
       "      <td>...</td>\n",
       "      <td>...</td>\n",
       "      <td>...</td>\n",
       "      <td>...</td>\n",
       "      <td>...</td>\n",
       "      <td>...</td>\n",
       "    </tr>\n",
       "    <tr>\n",
       "      <th>399971</th>\n",
       "      <td>0.0</td>\n",
       "      <td>0.0</td>\n",
       "      <td>0.0</td>\n",
       "      <td>0.0</td>\n",
       "      <td>0.0</td>\n",
       "      <td>0.0</td>\n",
       "      <td>0.0</td>\n",
       "      <td>0.0</td>\n",
       "      <td>0.0</td>\n",
       "      <td>0.0</td>\n",
       "      <td>...</td>\n",
       "      <td>0.0</td>\n",
       "      <td>0.0</td>\n",
       "      <td>0.0</td>\n",
       "      <td>0.0</td>\n",
       "      <td>0.0</td>\n",
       "      <td>0.0</td>\n",
       "      <td>0.0</td>\n",
       "      <td>0.0</td>\n",
       "      <td>0.0</td>\n",
       "      <td>0.0</td>\n",
       "    </tr>\n",
       "    <tr>\n",
       "      <th>399972</th>\n",
       "      <td>0.0</td>\n",
       "      <td>0.0</td>\n",
       "      <td>0.0</td>\n",
       "      <td>0.0</td>\n",
       "      <td>0.0</td>\n",
       "      <td>0.0</td>\n",
       "      <td>0.0</td>\n",
       "      <td>0.0</td>\n",
       "      <td>0.0</td>\n",
       "      <td>0.0</td>\n",
       "      <td>...</td>\n",
       "      <td>0.0</td>\n",
       "      <td>0.0</td>\n",
       "      <td>0.0</td>\n",
       "      <td>0.0</td>\n",
       "      <td>0.0</td>\n",
       "      <td>0.0</td>\n",
       "      <td>0.0</td>\n",
       "      <td>0.0</td>\n",
       "      <td>0.0</td>\n",
       "      <td>0.0</td>\n",
       "    </tr>\n",
       "    <tr>\n",
       "      <th>399973</th>\n",
       "      <td>0.0</td>\n",
       "      <td>0.0</td>\n",
       "      <td>0.0</td>\n",
       "      <td>0.0</td>\n",
       "      <td>0.0</td>\n",
       "      <td>0.0</td>\n",
       "      <td>0.0</td>\n",
       "      <td>0.0</td>\n",
       "      <td>0.0</td>\n",
       "      <td>0.0</td>\n",
       "      <td>...</td>\n",
       "      <td>0.0</td>\n",
       "      <td>0.0</td>\n",
       "      <td>0.0</td>\n",
       "      <td>0.0</td>\n",
       "      <td>0.0</td>\n",
       "      <td>0.0</td>\n",
       "      <td>0.0</td>\n",
       "      <td>0.0</td>\n",
       "      <td>0.0</td>\n",
       "      <td>0.0</td>\n",
       "    </tr>\n",
       "    <tr>\n",
       "      <th>399974</th>\n",
       "      <td>0.0</td>\n",
       "      <td>0.0</td>\n",
       "      <td>0.0</td>\n",
       "      <td>0.0</td>\n",
       "      <td>0.0</td>\n",
       "      <td>0.0</td>\n",
       "      <td>0.0</td>\n",
       "      <td>0.0</td>\n",
       "      <td>0.0</td>\n",
       "      <td>0.0</td>\n",
       "      <td>...</td>\n",
       "      <td>0.0</td>\n",
       "      <td>0.0</td>\n",
       "      <td>0.0</td>\n",
       "      <td>0.0</td>\n",
       "      <td>0.0</td>\n",
       "      <td>0.0</td>\n",
       "      <td>0.0</td>\n",
       "      <td>0.0</td>\n",
       "      <td>0.0</td>\n",
       "      <td>0.0</td>\n",
       "    </tr>\n",
       "    <tr>\n",
       "      <th>399975</th>\n",
       "      <td>0.0</td>\n",
       "      <td>0.0</td>\n",
       "      <td>0.0</td>\n",
       "      <td>0.0</td>\n",
       "      <td>0.0</td>\n",
       "      <td>0.0</td>\n",
       "      <td>0.0</td>\n",
       "      <td>0.0</td>\n",
       "      <td>0.0</td>\n",
       "      <td>0.0</td>\n",
       "      <td>...</td>\n",
       "      <td>0.0</td>\n",
       "      <td>0.0</td>\n",
       "      <td>0.0</td>\n",
       "      <td>0.0</td>\n",
       "      <td>0.0</td>\n",
       "      <td>0.0</td>\n",
       "      <td>0.0</td>\n",
       "      <td>0.0</td>\n",
       "      <td>0.0</td>\n",
       "      <td>0.0</td>\n",
       "    </tr>\n",
       "  </tbody>\n",
       "</table>\n",
       "<p>399976 rows × 10000 columns</p>\n",
       "</div>"
      ],
      "text/plain": [
       "         aa  aaa  aaron   ab  abandon  abandoned  abbey  abc  abilities  \\\n",
       "0       0.0  0.0    0.0  0.0      0.0        0.0    0.0  0.0        0.0   \n",
       "1       0.0  0.0    0.0  0.0      0.0        0.0    0.0  0.0        0.0   \n",
       "2       0.0  0.0    0.0  0.0      0.0        0.0    0.0  0.0        0.0   \n",
       "3       0.0  0.0    0.0  0.0      0.0        0.0    0.0  0.0        0.0   \n",
       "4       0.0  0.0    0.0  0.0      0.0        0.0    0.0  0.0        0.0   \n",
       "...     ...  ...    ...  ...      ...        ...    ...  ...        ...   \n",
       "399971  0.0  0.0    0.0  0.0      0.0        0.0    0.0  0.0        0.0   \n",
       "399972  0.0  0.0    0.0  0.0      0.0        0.0    0.0  0.0        0.0   \n",
       "399973  0.0  0.0    0.0  0.0      0.0        0.0    0.0  0.0        0.0   \n",
       "399974  0.0  0.0    0.0  0.0      0.0        0.0    0.0  0.0        0.0   \n",
       "399975  0.0  0.0    0.0  0.0      0.0        0.0    0.0  0.0        0.0   \n",
       "\n",
       "        ability  ...  zero  zip  zipper  zippers  zombie  zombies  zone  zoo  \\\n",
       "0           0.0  ...   0.0  0.0     0.0      0.0     0.0      0.0   0.0  0.0   \n",
       "1           0.0  ...   0.0  0.0     0.0      0.0     0.0      0.0   0.0  0.0   \n",
       "2           0.0  ...   0.0  0.0     0.0      0.0     0.0      0.0   0.0  0.0   \n",
       "3           0.0  ...   0.0  0.0     0.0      0.0     0.0      0.0   0.0  0.0   \n",
       "4           0.0  ...   0.0  0.0     0.0      0.0     0.0      0.0   0.0  0.0   \n",
       "...         ...  ...   ...  ...     ...      ...     ...      ...   ...  ...   \n",
       "399971      0.0  ...   0.0  0.0     0.0      0.0     0.0      0.0   0.0  0.0   \n",
       "399972      0.0  ...   0.0  0.0     0.0      0.0     0.0      0.0   0.0  0.0   \n",
       "399973      0.0  ...   0.0  0.0     0.0      0.0     0.0      0.0   0.0  0.0   \n",
       "399974      0.0  ...   0.0  0.0     0.0      0.0     0.0      0.0   0.0  0.0   \n",
       "399975      0.0  ...   0.0  0.0     0.0      0.0     0.0      0.0   0.0  0.0   \n",
       "\n",
       "        zoom  zune  \n",
       "0        0.0   0.0  \n",
       "1        0.0   0.0  \n",
       "2        0.0   0.0  \n",
       "3        0.0   0.0  \n",
       "4        0.0   0.0  \n",
       "...      ...   ...  \n",
       "399971   0.0   0.0  \n",
       "399972   0.0   0.0  \n",
       "399973   0.0   0.0  \n",
       "399974   0.0   0.0  \n",
       "399975   0.0   0.0  \n",
       "\n",
       "[399976 rows x 10000 columns]"
      ]
     },
     "execution_count": 21,
     "metadata": {},
     "output_type": "execute_result"
    }
   ],
   "source": [
    "tfidf_df"
   ]
  },
  {
   "cell_type": "code",
   "execution_count": 22,
   "id": "acfc7e83",
   "metadata": {
    "execution": {
     "iopub.execute_input": "2024-11-26T05:19:18.812062Z",
     "iopub.status.busy": "2024-11-26T05:19:18.811774Z",
     "iopub.status.idle": "2024-11-26T05:19:18.974742Z",
     "shell.execute_reply": "2024-11-26T05:19:18.973782Z"
    },
    "papermill": {
     "duration": 0.172922,
     "end_time": "2024-11-26T05:19:18.976902",
     "exception": false,
     "start_time": "2024-11-26T05:19:18.803980",
     "status": "completed"
    },
    "tags": []
   },
   "outputs": [],
   "source": [
    "x = tfidf_matrix  \n",
    "y = df['polarity']\n",
    "\n",
    "# Split the data\n",
    "x_train, x_test, y_train, y_test = train_test_split(x, y, test_size=0.2, random_state=42)"
   ]
  },
  {
   "cell_type": "code",
   "execution_count": 23,
   "id": "00a46e98",
   "metadata": {
    "execution": {
     "iopub.execute_input": "2024-11-26T05:19:18.989573Z",
     "iopub.status.busy": "2024-11-26T05:19:18.989034Z",
     "iopub.status.idle": "2024-11-26T05:55:45.664471Z",
     "shell.execute_reply": "2024-11-26T05:55:45.663580Z"
    },
    "papermill": {
     "duration": 2186.689898,
     "end_time": "2024-11-26T05:55:45.672619",
     "exception": false,
     "start_time": "2024-11-26T05:19:18.982721",
     "status": "completed"
    },
    "tags": []
   },
   "outputs": [
    {
     "data": {
      "text/html": [
       "<style>#sk-container-id-1 {color: black;background-color: white;}#sk-container-id-1 pre{padding: 0;}#sk-container-id-1 div.sk-toggleable {background-color: white;}#sk-container-id-1 label.sk-toggleable__label {cursor: pointer;display: block;width: 100%;margin-bottom: 0;padding: 0.3em;box-sizing: border-box;text-align: center;}#sk-container-id-1 label.sk-toggleable__label-arrow:before {content: \"▸\";float: left;margin-right: 0.25em;color: #696969;}#sk-container-id-1 label.sk-toggleable__label-arrow:hover:before {color: black;}#sk-container-id-1 div.sk-estimator:hover label.sk-toggleable__label-arrow:before {color: black;}#sk-container-id-1 div.sk-toggleable__content {max-height: 0;max-width: 0;overflow: hidden;text-align: left;background-color: #f0f8ff;}#sk-container-id-1 div.sk-toggleable__content pre {margin: 0.2em;color: black;border-radius: 0.25em;background-color: #f0f8ff;}#sk-container-id-1 input.sk-toggleable__control:checked~div.sk-toggleable__content {max-height: 200px;max-width: 100%;overflow: auto;}#sk-container-id-1 input.sk-toggleable__control:checked~label.sk-toggleable__label-arrow:before {content: \"▾\";}#sk-container-id-1 div.sk-estimator input.sk-toggleable__control:checked~label.sk-toggleable__label {background-color: #d4ebff;}#sk-container-id-1 div.sk-label input.sk-toggleable__control:checked~label.sk-toggleable__label {background-color: #d4ebff;}#sk-container-id-1 input.sk-hidden--visually {border: 0;clip: rect(1px 1px 1px 1px);clip: rect(1px, 1px, 1px, 1px);height: 1px;margin: -1px;overflow: hidden;padding: 0;position: absolute;width: 1px;}#sk-container-id-1 div.sk-estimator {font-family: monospace;background-color: #f0f8ff;border: 1px dotted black;border-radius: 0.25em;box-sizing: border-box;margin-bottom: 0.5em;}#sk-container-id-1 div.sk-estimator:hover {background-color: #d4ebff;}#sk-container-id-1 div.sk-parallel-item::after {content: \"\";width: 100%;border-bottom: 1px solid gray;flex-grow: 1;}#sk-container-id-1 div.sk-label:hover label.sk-toggleable__label {background-color: #d4ebff;}#sk-container-id-1 div.sk-serial::before {content: \"\";position: absolute;border-left: 1px solid gray;box-sizing: border-box;top: 0;bottom: 0;left: 50%;z-index: 0;}#sk-container-id-1 div.sk-serial {display: flex;flex-direction: column;align-items: center;background-color: white;padding-right: 0.2em;padding-left: 0.2em;position: relative;}#sk-container-id-1 div.sk-item {position: relative;z-index: 1;}#sk-container-id-1 div.sk-parallel {display: flex;align-items: stretch;justify-content: center;background-color: white;position: relative;}#sk-container-id-1 div.sk-item::before, #sk-container-id-1 div.sk-parallel-item::before {content: \"\";position: absolute;border-left: 1px solid gray;box-sizing: border-box;top: 0;bottom: 0;left: 50%;z-index: -1;}#sk-container-id-1 div.sk-parallel-item {display: flex;flex-direction: column;z-index: 1;position: relative;background-color: white;}#sk-container-id-1 div.sk-parallel-item:first-child::after {align-self: flex-end;width: 50%;}#sk-container-id-1 div.sk-parallel-item:last-child::after {align-self: flex-start;width: 50%;}#sk-container-id-1 div.sk-parallel-item:only-child::after {width: 0;}#sk-container-id-1 div.sk-dashed-wrapped {border: 1px dashed gray;margin: 0 0.4em 0.5em 0.4em;box-sizing: border-box;padding-bottom: 0.4em;background-color: white;}#sk-container-id-1 div.sk-label label {font-family: monospace;font-weight: bold;display: inline-block;line-height: 1.2em;}#sk-container-id-1 div.sk-label-container {text-align: center;}#sk-container-id-1 div.sk-container {/* jupyter's `normalize.less` sets `[hidden] { display: none; }` but bootstrap.min.css set `[hidden] { display: none !important; }` so we also need the `!important` here to be able to override the default hidden behavior on the sphinx rendered scikit-learn.org. See: https://github.com/scikit-learn/scikit-learn/issues/21755 */display: inline-block !important;position: relative;}#sk-container-id-1 div.sk-text-repr-fallback {display: none;}</style><div id=\"sk-container-id-1\" class=\"sk-top-container\"><div class=\"sk-text-repr-fallback\"><pre>RandomForestClassifier()</pre><b>In a Jupyter environment, please rerun this cell to show the HTML representation or trust the notebook. <br />On GitHub, the HTML representation is unable to render, please try loading this page with nbviewer.org.</b></div><div class=\"sk-container\" hidden><div class=\"sk-item\"><div class=\"sk-estimator sk-toggleable\"><input class=\"sk-toggleable__control sk-hidden--visually\" id=\"sk-estimator-id-1\" type=\"checkbox\" checked><label for=\"sk-estimator-id-1\" class=\"sk-toggleable__label sk-toggleable__label-arrow\">RandomForestClassifier</label><div class=\"sk-toggleable__content\"><pre>RandomForestClassifier()</pre></div></div></div></div></div>"
      ],
      "text/plain": [
       "RandomForestClassifier()"
      ]
     },
     "execution_count": 23,
     "metadata": {},
     "output_type": "execute_result"
    }
   ],
   "source": [
    "model=RandomForestClassifier()\n",
    "model.fit(x_train,y_train)"
   ]
  },
  {
   "cell_type": "code",
   "execution_count": 24,
   "id": "a388cda7",
   "metadata": {
    "execution": {
     "iopub.execute_input": "2024-11-26T05:55:45.685111Z",
     "iopub.status.busy": "2024-11-26T05:55:45.684823Z",
     "iopub.status.idle": "2024-11-26T05:55:50.934137Z",
     "shell.execute_reply": "2024-11-26T05:55:50.933408Z"
    },
    "papermill": {
     "duration": 5.257867,
     "end_time": "2024-11-26T05:55:50.936114",
     "exception": false,
     "start_time": "2024-11-26T05:55:45.678247",
     "status": "completed"
    },
    "tags": []
   },
   "outputs": [],
   "source": [
    "y_pred=model.predict(x_test)"
   ]
  },
  {
   "cell_type": "code",
   "execution_count": 25,
   "id": "f5aeac9b",
   "metadata": {
    "execution": {
     "iopub.execute_input": "2024-11-26T05:55:50.950372Z",
     "iopub.status.busy": "2024-11-26T05:55:50.950071Z",
     "iopub.status.idle": "2024-11-26T05:55:51.225014Z",
     "shell.execute_reply": "2024-11-26T05:55:51.224188Z"
    },
    "papermill": {
     "duration": 0.283738,
     "end_time": "2024-11-26T05:55:51.226832",
     "exception": false,
     "start_time": "2024-11-26T05:55:50.943094",
     "status": "completed"
    },
    "tags": []
   },
   "outputs": [
    {
     "name": "stdout",
     "output_type": "stream",
     "text": [
      "              precision    recall  f1-score   support\n",
      "\n",
      "           0       0.86      0.87      0.86     40010\n",
      "           1       0.86      0.85      0.86     39986\n",
      "\n",
      "    accuracy                           0.86     79996\n",
      "   macro avg       0.86      0.86      0.86     79996\n",
      "weighted avg       0.86      0.86      0.86     79996\n",
      "\n"
     ]
    },
    {
     "data": {
      "text/plain": [
       "<Axes: >"
      ]
     },
     "execution_count": 25,
     "metadata": {},
     "output_type": "execute_result"
    },
    {
     "data": {
      "image/png": "[encoded data removed]",
      "text/plain": [
       "<Figure size 640x480 with 2 Axes>"
      ]
     },
     "metadata": {},
     "output_type": "display_data"
    }
   ],
   "source": [
    "print(classification_report(y_test,y_pred))\n",
    "sns.heatmap(confusion_matrix(y_test,y_pred),annot=True,fmt='d',cmap='Blues')"
   ]
  }
 ],
 "metadata": {
  "kaggle": {
   "accelerator": "gpu",
   "dataSources": [
    {
     "datasetId": 1340369,
     "sourceId": 2233682,
     "sourceType": "datasetVersion"
    }
   ],
   "isGpuEnabled": true,
   "isInternetEnabled": true,
   "language": "python",
   "sourceType": "notebook"
  },
  "kernelspec": {
   "display_name": "Python 3",
   "language": "python",
   "name": "python3"
  },
  "language_info": {
   "codemirror_mode": {
    "name": "ipython",
    "version": 3
   },
   "file_extension": ".py",
   "mimetype": "text/x-python",
   "name": "python",
   "nbconvert_exporter": "python",
   "pygments_lexer": "ipython3",
   "version": "3.10.14"
  },
  "papermill": {
   "default_parameters": {},
   "duration": 2822.105439,
   "end_time": "2024-11-26T05:55:54.052472",
   "environment_variables": {},
   "exception": null,
   "input_path": "__notebook__.ipynb",
   "output_path": "__notebook__.ipynb",
   "parameters": {},
   "start_time": "2024-11-26T05:08:51.947033",
   "version": "2.6.0"
  }
 },
 "nbformat": 4,
 "nbformat_minor": 5
}
